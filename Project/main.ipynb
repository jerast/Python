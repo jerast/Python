{
 "cells": [
  {
   "cell_type": "markdown",
   "metadata": {},
   "source": [
    "# **Predicción Ventas de Yamaha 2024-2025**\n",
    "\n",
    "**(Data Mining Linear Regression)**"
   ]
  },
  {
   "cell_type": "code",
   "execution_count": null,
   "metadata": {},
   "outputs": [],
   "source": [
    "# Import needed libraries\n",
    "import os\n",
    "import dotenv\n",
    "import pyodbc\n",
    "import pandas\n",
    "import numpy\n",
    "import seaborn\n",
    "import matplotlib\n",
    "import matplotlib.pyplot as pyplot\n",
    "from datetime import datetime\n",
    "from sklearn.linear_model import LinearRegression\n",
    "from sklearn.model_selection import train_test_split\n",
    "from sklearn.metrics import mean_squared_error"
   ]
  },
  {
   "cell_type": "code",
   "execution_count": null,
   "metadata": {},
   "outputs": [],
   "source": [
    "# Set Project params\n",
    "data_filter = 'modelo' # [asesor, modelo, clasificacion]\n",
    "data_values = 'cantidad' # [cantidad, costo]\n",
    "data_time_freq = 'mes' # [año, mes, dia]\n",
    "fetched = True\n",
    "time_start = '2020'\n",
    "time_end = '2024'\n",
    "\n",
    "# Set Model params"
   ]
  },
  {
   "cell_type": "markdown",
   "metadata": {},
   "source": [
    "## **Get and Prepare Data**\n",
    "\n",
    "Data connection, cleaning and filtering."
   ]
  },
  {
   "cell_type": "code",
   "execution_count": null,
   "metadata": {},
   "outputs": [],
   "source": [
    "# Set data params\n",
    "\n",
    "# Connect\n",
    "connect_sql_path = './assets/query.sql'\n",
    "connect_save_path = './assets/data.csv'\n",
    "\n",
    "# Clean\n",
    "clean_data_path = './assets/data.csv'\n",
    "clean_save_path = './assets/data_cleaned.csv'\n",
    "\n",
    "# Filter\n",
    "filter_data_path = './assets/data_cleaned.csv'\n",
    "filter_save_path = './assets/data_filtered.csv'"
   ]
  },
  {
   "cell_type": "markdown",
   "metadata": {},
   "source": [
    "### Connect\n",
    "\n",
    "Start with init **Connection** and **get the Data from DB**"
   ]
  },
  {
   "cell_type": "code",
   "execution_count": null,
   "metadata": {},
   "outputs": [],
   "source": [
    "dotenv.load_dotenv( )\n",
    "\n",
    "# Get env variables \n",
    "DRIVER = os.getenv('PROJECT_DRIVER')\n",
    "SERVER = os.getenv('PROJECT_SERVER')\n",
    "DATABASE = os.getenv('PROJECT_DATABASE')\n",
    "USERNAME = os.getenv('PROJECT_USERNAME')\n",
    "PASSWORD = os.getenv('PROJECT_PASSWORD')\n",
    "\n",
    "SERVER"
   ]
  },
  {
   "cell_type": "code",
   "execution_count": null,
   "metadata": {},
   "outputs": [],
   "source": [
    "# Get SQL query from file\n",
    "with open(connect_sql_path) as file:\n",
    "   sql_query = file.read()"
   ]
  },
  {
   "cell_type": "code",
   "execution_count": null,
   "metadata": {},
   "outputs": [],
   "source": [
    "if not fetched:\n",
    "   # Establish connection\n",
    "   connectionString = f'DRIVER={DRIVER};SERVER={SERVER};DATABASE={DATABASE};UID={USERNAME};PWD={PASSWORD};TrustServerCertificate=YES;'\n",
    "   connection = pyodbc.connect(connectionString)\n",
    "\n",
    "   # # Excecute query with pandas\n",
    "   query = pandas.read_sql_query(\n",
    "      sql_query,\n",
    "      connection,\n",
    "   )"
   ]
  },
  {
   "cell_type": "code",
   "execution_count": null,
   "metadata": {},
   "outputs": [],
   "source": [
    "if not fetched:\n",
    "   # Get results and save it in .CSV file\n",
    "   results = pandas.DataFrame(query)\n",
    "   results.to_csv(connect_save_path, index=False, header=True, sep=\";\")"
   ]
  },
  {
   "cell_type": "markdown",
   "metadata": {},
   "source": [
    "### Clean\n",
    "\n",
    "Clean data removing extra chars and export it in a new .CSV file"
   ]
  },
  {
   "cell_type": "code",
   "execution_count": null,
   "metadata": {},
   "outputs": [],
   "source": [
    "# Load data to be cleaned\n",
    "with open(clean_data_path, 'r') as file:\n",
    "   file_content = file.read().split('\\n')\n",
    "   headers = file_content.pop(0)\n",
    "   clean_data = '\\n'.join(file_content)\n",
    "\n",
    "   print(headers)\n",
    "   print(clean_data)"
   ]
  },
  {
   "cell_type": "code",
   "execution_count": null,
   "metadata": {},
   "outputs": [],
   "source": [
    "# Delete extra chars:\n",
    "\n",
    "# decimals to int values\n",
    "clean_data = clean_data.replace('.0;', ';') \n",
    "# extra commas\n",
    "clean_data = clean_data.replace(',', '')\n",
    "# double spaces at start and end of any cell\n",
    "clean_data = clean_data.replace('; ', ';')\n",
    "clean_data = clean_data.replace(' ;', ';')\n",
    "# double spaces at middle of any cell\n",
    "clean_data = clean_data.replace('\\n', '_')\n",
    "clean_data = ' '.join(clean_data.split())\n",
    "clean_data = clean_data.replace('_', '\\n')\n",
    "# extra quotation marks\n",
    "clean_data = clean_data.replace('\"', '')"
   ]
  },
  {
   "cell_type": "code",
   "execution_count": null,
   "metadata": {},
   "outputs": [],
   "source": [
    "# Set CSV default separator\n",
    "headers = headers.replace(';', ',')\n",
    "clean_data = clean_data.replace(';', ',')\n",
    "\n",
    "# Save cleaned data\n",
    "with open(clean_save_path, 'w') as file:\n",
    "   file.write( headers+'\\n'+clean_data )"
   ]
  },
  {
   "cell_type": "markdown",
   "metadata": {},
   "source": [
    "### Filter\n",
    "\n",
    "Filter the cleaned data and export it to a new .CSV file"
   ]
  },
  {
   "cell_type": "code",
   "execution_count": null,
   "metadata": {},
   "outputs": [],
   "source": [
    "# Load data to be filtered\n",
    "filter_data = pandas.read_csv(filter_data_path)\n",
    "filter_data.head()"
   ]
  },
  {
   "cell_type": "code",
   "execution_count": null,
   "metadata": {},
   "outputs": [],
   "source": [
    "# Set 'fecha' column as 'datetime' type\n",
    "filter_data['fecha'] = pandas.to_datetime(filter_data['fecha'], format=\"%Y-%m-%d\")\n",
    "\n",
    "# Delete unnecesary columns\n",
    "filter_data = filter_data.drop(columns=['sw', 'bodega', 'ident_asesor', 'ident_cliente', 'nom_cliente', 'utilidad', 'modelo', 'financiera', 'dias_inv', 'doc_ref'])\n",
    "filter_data.head()"
   ]
  },
  {
   "cell_type": "code",
   "execution_count": null,
   "metadata": {},
   "outputs": [],
   "source": [
    "# Create params maps\n",
    "date_mappings = {\n",
    "   'año': {\n",
    "      'symbol': 'YE',\n",
    "      'format': '%Y'\n",
    "   },\n",
    "   'mes': {\n",
    "      'symbol': 'ME',\n",
    "      'format': '%Y-%m'\n",
    "   },\n",
    "   'dia': {\n",
    "      'symbol': 'D',\n",
    "      'format': '%Y-%m-%d'\n",
    "   }\n",
    "}\n",
    "filter_mappings = {\n",
    "   'asesor': 'nom_asesor',\n",
    "   'modelo': 'des_modelo',\n",
    "   'financiera': 'financiera',\n",
    "   'clasificacion': 'clasificacion'\n",
    "}\n",
    "values_mappings = {\n",
    "   'cantidad': {\n",
    "      'name': 'cantidad',\n",
    "      'type': int\n",
    "   },\n",
    "   'costo': {\n",
    "      'name': 'costo_unitario',\n",
    "      'type': float\n",
    "   }\n",
    "}\n",
    "\n",
    "# Set the variables according filtering variables\n",
    "selected_time = date_mappings.get(data_time_freq)\n",
    "selected_filter = filter_mappings.get(data_filter)\n",
    "selected_value = values_mappings.get(data_values)"
   ]
  },
  {
   "cell_type": "code",
   "execution_count": null,
   "metadata": {},
   "outputs": [],
   "source": [
    "# Group dataframe by ['fecha'] as primary and [selected_filter] as secondary\n",
    "data_group = filter_data.groupby([pandas.Grouper(key='fecha', freq=selected_time['symbol'], sort=True), selected_filter])[selected_value['name']].sum() \n",
    "data_group"
   ]
  },
  {
   "cell_type": "code",
   "execution_count": null,
   "metadata": {},
   "outputs": [],
   "source": [
    "# Convert group series in a new dataframe\n",
    "data_filtered = data_group.unstack(level=1)\n",
    "data_filtered"
   ]
  },
  {
   "cell_type": "code",
   "execution_count": null,
   "metadata": {},
   "outputs": [],
   "source": [
    "# Fill NaN data\n",
    "data_filtered = data_filtered.fillna(0)\n",
    "data_filtered = data_filtered.astype(selected_value['type'])\n",
    "data_filtered['total'] = data_filtered.sum(axis='columns')\n",
    "data_filtered.head()"
   ]
  },
  {
   "cell_type": "code",
   "execution_count": null,
   "metadata": {},
   "outputs": [],
   "source": [
    "data_filtered.index = pandas.to_datetime(data_filtered.index, format=selected_time['format'])\n",
    "data_filtered = data_filtered[(time_start <= data_filtered.index) & (data_filtered.index <= time_end)]\n",
    "data_filtered.head()"
   ]
  },
  {
   "cell_type": "code",
   "execution_count": null,
   "metadata": {},
   "outputs": [],
   "source": [
    "# Export filtered_data\n",
    "data_filtered.to_csv(filter_save_path, date_format=selected_time['format'])\n",
    "# data_filtered.to_json(filter_save_path.replace('.csv', '.json'), date_format=selected_time['format'], indent=3)"
   ]
  },
  {
   "cell_type": "markdown",
   "metadata": {},
   "source": [
    "## **Implement Data Model**\n",
    "\n",
    "Linear Regression Model creation, and implement."
   ]
  },
  {
   "cell_type": "markdown",
   "metadata": {},
   "source": [
    "### Show\n",
    "\n",
    "**Data plot** with pandas and matplotlib."
   ]
  },
  {
   "cell_type": "code",
   "execution_count": null,
   "metadata": {},
   "outputs": [],
   "source": [
    "# Run plots without show()\n",
    "%matplotlib inline"
   ]
  },
  {
   "cell_type": "code",
   "execution_count": null,
   "metadata": {},
   "outputs": [],
   "source": [
    "# Read filtered data\n",
    "data = pandas.read_csv('./assets/data_filtered.csv')\n",
    "\n",
    "# format date and number columns\n",
    "data['fecha'] = pandas.to_datetime(data['fecha'], format=selected_time['format'])\n",
    "data.iloc[:, 2:] = data.iloc[:, 2:].astype(selected_value['type'])\n",
    "\n",
    "items = list(data.iloc[:, 2:-1].keys())"
   ]
  },
  {
   "cell_type": "code",
   "execution_count": null,
   "metadata": {},
   "outputs": [],
   "source": [
    "# Create new datetime with time count\n",
    "data.insert(1, data_time_freq, (data['fecha'].dt.to_period(selected_time['symbol'][0]) + 1 - data['fecha'].dt.to_period(selected_time['symbol'][0]).min()).apply(lambda x: x.n))\n",
    "data.head()"
   ]
  },
  {
   "cell_type": "code",
   "execution_count": null,
   "metadata": {},
   "outputs": [],
   "source": [
    "# Set pyplot settings\n",
    "pyplot.rcParams['axes.grid'] = False\n",
    "colors = ['#1f77b4', '#ff7f0e', '#2ca02c', '#d62728', '#9467bd', '#8c564b', '#e377c2', '#7f7f7f', '#bcbd22', '#17becf']\n",
    "time = numpy.asarray(data['fecha'], dtype='datetime64[s]')"
   ]
  },
  {
   "cell_type": "code",
   "execution_count": null,
   "metadata": {},
   "outputs": [],
   "source": [
    "figure_a, axes_a = pyplot.subplots(figsize=(12, 4))\n",
    "\n",
    "ax = axes_a\n",
    "ax.plot(time, data[items])\n",
    "ax.tick_params(axis='x', labelrotation=45)\n",
    "ax.set_title(f'No. de Ventas {time_start} - 2024')\n",
    "ax.set_xlabel('Fecha')\n",
    "ax.set_ylabel('Ventas')\n",
    "ax.margins(x=0.03, y=0.01)\n",
    "ax.grid()\n",
    "\n",
    "figure_a.tight_layout()"
   ]
  },
  {
   "cell_type": "code",
   "execution_count": null,
   "metadata": {},
   "outputs": [],
   "source": [
    "# get items subgroup\n",
    "subitems = items[0:10]"
   ]
  },
  {
   "cell_type": "code",
   "execution_count": null,
   "metadata": {},
   "outputs": [],
   "source": [
    "figure_b, axes_b = pyplot.subplots(nrows=int(len(subitems)/5), ncols=5, figsize=(20, 5))\n",
    "\n",
    "# Iterar sobre cada modelo y graficar en el subplot correspondiente\n",
    "for index, item in enumerate(subitems):\n",
    "    ax = axes_b[int(index/5), int(index%5)]\n",
    "    ax.plot(time, data[item], label=item, color=colors[int(index%10)])\n",
    "    ax.tick_params(axis='x', labelrotation=45)\n",
    "    ax.legend()\n",
    "figure_b.tight_layout()"
   ]
  },
  {
   "cell_type": "code",
   "execution_count": null,
   "metadata": {},
   "outputs": [],
   "source": [
    "figure_c, axes_c = pyplot.subplots(nrows=int(len(subitems)/5), ncols=5, figsize=(20, 5))\n",
    "\n",
    "# Iterar sobre cada modelo y graficar en el subplot correspondiente\n",
    "for index, item in enumerate(subitems):\n",
    "    ax = axes_c[int(index/5), int(index%5)]\n",
    "    ax.plot(time, data[item], label=item, color=colors[int(index%10)])\n",
    "    ax.tick_params(axis='x', labelrotation=45)\n",
    "    ax.legend()\n",
    "    ax.set(ylim=(0, 250))\n",
    "figure_c.tight_layout()"
   ]
  },
  {
   "cell_type": "code",
   "execution_count": null,
   "metadata": {},
   "outputs": [],
   "source": [
    "# Set example data\n",
    "example_items = [ items[8], items[40] ]"
   ]
  },
  {
   "cell_type": "code",
   "execution_count": null,
   "metadata": {},
   "outputs": [],
   "source": [
    "# Set figure and axes\n",
    "figure_c, axes_c = pyplot.subplots(nrows=1, ncols=len(example_items), figsize=(8, 4))\n",
    "\n",
    "# Add subplots to axes\n",
    "for index, key in enumerate(example_items):\n",
    "   ax = axes_c[index]\n",
    "   ax.plot(time, data[key], label=key)\n",
    "   ax.plot(time, data['total'], label='Total')\n",
    "   ax.tick_params(axis='x', labelrotation=45)\n",
    "   ax.margins(x=0.03, y=0.04)\n",
    "   ax.grid()\n",
    "   ax.set(\n",
    "      title=f'{key}',\n",
    "      xlabel='Fecha', \n",
    "      ylabel='No. de Ventas',\n",
    "   )\n",
    "   ax.legend()\n",
    "\n",
    "# Fix figure layout\n",
    "figure_c.tight_layout()"
   ]
  },
  {
   "cell_type": "markdown",
   "metadata": {},
   "source": [
    "### Model\n",
    "\n",
    "Create a Linear Regression Predict model with scikit-learn."
   ]
  },
  {
   "cell_type": "code",
   "execution_count": null,
   "metadata": {},
   "outputs": [],
   "source": [
    "# Create a new linear regression model instance\n",
    "# linearRegressionModel = linear_model.LinearRegression()"
   ]
  }
 ],
 "metadata": {
  "kernelspec": {
   "display_name": ".venv",
   "language": "python",
   "name": "python3"
  },
  "language_info": {
   "codemirror_mode": {
    "name": "ipython",
    "version": 3
   },
   "file_extension": ".py",
   "mimetype": "text/x-python",
   "name": "python",
   "nbconvert_exporter": "python",
   "pygments_lexer": "ipython3",
   "version": "3.10.12"
  }
 },
 "nbformat": 4,
 "nbformat_minor": 2
}
