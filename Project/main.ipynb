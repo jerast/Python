{
 "cells": [
  {
   "cell_type": "markdown",
   "metadata": {},
   "source": [
    "# **Predicción Ventas de Yamaha 2024-2025**\n",
    "\n",
    "**(Data Mining Linear Regression)**"
   ]
  },
  {
   "cell_type": "code",
   "execution_count": null,
   "metadata": {},
   "outputs": [],
   "source": [
    "# Import needed libraries\n",
    "import os\n",
    "import dotenv\n",
    "import pyodbc\n",
    "import pandas\n",
    "import numpy\n",
    "import matplotlib\n",
    "import matplotlib.pyplot as pyplot\n",
    "import seaborn\n",
    "import json"
   ]
  },
  {
   "cell_type": "markdown",
   "metadata": {},
   "source": [
    "## **Get Data**\n",
    "\n",
    "Data connection, cleaning and filtering."
   ]
  },
  {
   "cell_type": "code",
   "execution_count": null,
   "metadata": {},
   "outputs": [],
   "source": [
    "# Get Data variables\n",
    "\n",
    "# Connection\n",
    "connection_sql_path = './assets/query.sql'\n",
    "connection_save_path = './assets/data.csv'\n",
    "\n",
    "# Cleaning\n",
    "cleaning_data_path = './assets/data.csv'\n",
    "cleaning_save_path = './assets/data_cleaned.csv'\n",
    "\n",
    "# Filtering\n",
    "filtering_data_path = './assets/data_cleaned.csv'\n",
    "filtering_save_path = './assets/data_filtered.csv'\n",
    "filtering_time_range = 'M' # [Y, M, D]\n",
    "filtering_filter = 'modelo' # [asesor, modelo, clasificacion]\n",
    "filtering_values = 'cantidad' # [cantidad, costo]"
   ]
  },
  {
   "cell_type": "markdown",
   "metadata": {},
   "source": [
    "### Connection\n",
    "\n",
    "Start with init **Connection** and **get the Data from DB**"
   ]
  },
  {
   "cell_type": "code",
   "execution_count": null,
   "metadata": {},
   "outputs": [],
   "source": [
    "dotenv.load_dotenv( )\n",
    "\n",
    "# Get env variables \n",
    "DRIVER = os.getenv('PROJECT_DRIVER')\n",
    "SERVER = os.getenv('PROJECT_SERVER')\n",
    "DATABASE = os.getenv('PROJECT_DATABASE')\n",
    "USERNAME = os.getenv('PROJECT_USERNAME')\n",
    "PASSWORD = os.getenv('PROJECT_PASSWORD')"
   ]
  },
  {
   "cell_type": "code",
   "execution_count": null,
   "metadata": {},
   "outputs": [],
   "source": [
    "# Get SQL query from file\n",
    "with open(connection_sql_path) as file:\n",
    "   sql_query = file.read()"
   ]
  },
  {
   "cell_type": "code",
   "execution_count": null,
   "metadata": {},
   "outputs": [],
   "source": [
    "conn_state = True\n",
    "\n",
    "try:\n",
    "   # Establish connection\n",
    "   connectionString = f'DRIVER={DRIVER};SERVER={SERVER};DATABASE={DATABASE};UID={USERNAME};PWD={PASSWORD};TrustServerCertificate=YES;'\n",
    "   connection = pyodbc.connect(connectionString)\n",
    "\n",
    "\n",
    "   # Excecute query with pandas\n",
    "   query = pandas.read_sql_query(\n",
    "      sql_query,\n",
    "      connection,\n",
    "   )\n",
    "except:\n",
    "   conn_state = False\n",
    "   print('Exception at connection with MSSQL-Server')"
   ]
  },
  {
   "cell_type": "code",
   "execution_count": null,
   "metadata": {},
   "outputs": [],
   "source": [
    "if conn_state:\n",
    "   # Get results and save it in .CSV file\n",
    "   results = pandas.DataFrame(query)\n",
    "   results.to_csv(connection_save_path, index=False, header=True, sep=\";\")"
   ]
  },
  {
   "cell_type": "markdown",
   "metadata": {},
   "source": [
    "### Cleaning\n",
    "\n",
    "Clean data removing extra chars and export it in a new .CSV file"
   ]
  },
  {
   "cell_type": "code",
   "execution_count": null,
   "metadata": {},
   "outputs": [],
   "source": [
    "# Load data to be cleaned\n",
    "with open(cleaning_data_path, 'r') as file:\n",
    "   file_content = file.read().split('\\n')\n",
    "   headers = file_content.pop(0)\n",
    "   clean_data = '\\n'.join(file_content)\n",
    "\n",
    "   print(headers)\n",
    "   print(clean_data)"
   ]
  },
  {
   "cell_type": "code",
   "execution_count": null,
   "metadata": {},
   "outputs": [],
   "source": [
    "# Delete extra chars:\n",
    "\n",
    "# decimals to int values\n",
    "clean_data = clean_data.replace('.0;', ';') \n",
    "# extra commas\n",
    "clean_data = clean_data.replace(',', '')\n",
    "# double spaces at start and end of any cell\n",
    "clean_data = clean_data.replace('; ', ';')\n",
    "clean_data = clean_data.replace(' ;', ';')\n",
    "# double spaces at middle of any cell\n",
    "clean_data = clean_data.replace('\\n', '_')\n",
    "clean_data = ' '.join(clean_data.split())\n",
    "clean_data = clean_data.replace('_', '\\n')\n",
    "# extra quotation marks\n",
    "clean_data = clean_data.replace('\"', '')"
   ]
  },
  {
   "cell_type": "code",
   "execution_count": null,
   "metadata": {},
   "outputs": [],
   "source": [
    "# Set CSV default separator\n",
    "headers = headers.replace(';', ',')\n",
    "clean_data = clean_data.replace(';', ',')\n",
    "\n",
    "# Save cleaned data\n",
    "with open(cleaning_save_path, 'w') as file:\n",
    "   file.write( headers+'\\n'+clean_data )"
   ]
  },
  {
   "cell_type": "markdown",
   "metadata": {},
   "source": [
    "### Filtering\n",
    "\n",
    "Filter the cleaned data and export it to a new .CSV file"
   ]
  },
  {
   "cell_type": "code",
   "execution_count": null,
   "metadata": {},
   "outputs": [],
   "source": [
    "# Load data to be filtered\n",
    "filter_data = pandas.read_csv(filtering_data_path)\n",
    "filter_data"
   ]
  },
  {
   "cell_type": "code",
   "execution_count": null,
   "metadata": {},
   "outputs": [],
   "source": [
    "# Set 'fecha' column as 'datetime' type\n",
    "filter_data['fecha'] = pandas.to_datetime(filter_data['fecha'], format=\"%Y-%m-%d\")\n",
    "\n",
    "# Delete unnecesary columns\n",
    "filter_data = filter_data.drop(columns=['sw', 'bodega', 'ident_asesor', 'ident_cliente', 'nom_cliente', 'utilidad', 'modelo', 'financiera', 'dias_inv', 'doc_ref'])\n",
    "filter_data"
   ]
  },
  {
   "cell_type": "code",
   "execution_count": null,
   "metadata": {},
   "outputs": [],
   "source": [
    "# Create params maps\n",
    "date_mappings = {\n",
    "   'Y': {\n",
    "      'symbol': 'YE',\n",
    "      'format': '%Y'\n",
    "   },\n",
    "   'M': {\n",
    "      'symbol': 'ME',\n",
    "      'format': '%Y-%m'\n",
    "   },\n",
    "   'D': {\n",
    "      'symbol': 'D',\n",
    "      'format': '%Y-%m-%d'\n",
    "   }\n",
    "}\n",
    "filter_mappings = {\n",
    "   'asesor': 'nom_asesor',\n",
    "   'modelo': 'des_modelo',\n",
    "   'financiera': 'financiera',\n",
    "   'clasificacion': 'clasificacion'\n",
    "}\n",
    "values_mappings = {\n",
    "   'cantidad': {\n",
    "      'name': 'cantidad',\n",
    "      'type': int\n",
    "   },\n",
    "   'costo': {\n",
    "      'name': 'costo_unitario',\n",
    "      'type': float\n",
    "   }\n",
    "}\n",
    "\n",
    "# Set the variables according filtering variables\n",
    "selected_time = date_mappings.get(filtering_time_range)\n",
    "selected_filter = filter_mappings.get(filtering_filter)\n",
    "selected_value = values_mappings.get(filtering_values)"
   ]
  },
  {
   "cell_type": "code",
   "execution_count": null,
   "metadata": {},
   "outputs": [],
   "source": [
    "# Group dataframe by ['fecha'] as primary and [selected_filter] as secondary\n",
    "data_group = filter_data.groupby([pandas.Grouper(key='fecha', freq=selected_time['symbol'], sort=True), selected_filter])[selected_value['name']].sum() \n",
    "data_group"
   ]
  },
  {
   "cell_type": "code",
   "execution_count": null,
   "metadata": {},
   "outputs": [],
   "source": [
    "# Convert group series in a new dataframe\n",
    "data_filtered = data_group.unstack(level=1)\n",
    "data_filtered"
   ]
  },
  {
   "cell_type": "code",
   "execution_count": null,
   "metadata": {},
   "outputs": [],
   "source": [
    "# Fill NaN data\n",
    "data_filtered = data_filtered.fillna(0)\n",
    "data_filtered = data_filtered.astype(selected_value['type'])\n",
    "data_filtered.index = data_filtered.index.strftime(selected_time['format'])\n",
    "data_filtered"
   ]
  },
  {
   "cell_type": "code",
   "execution_count": null,
   "metadata": {},
   "outputs": [],
   "source": [
    "# Export filtered_data\n",
    "data_filtered.to_csv(filtering_save_path, date_format=selected_time['format'])\n",
    "data_filtered.to_json(filtering_save_path.replace('.csv', '.json'), date_format=selected_time['format'], indent=3)"
   ]
  },
  {
   "cell_type": "markdown",
   "metadata": {},
   "source": [
    "## **Show Data**\n",
    "\n",
    "Data plot with pandas and matplotlib."
   ]
  },
  {
   "cell_type": "code",
   "execution_count": null,
   "metadata": {},
   "outputs": [],
   "source": []
  }
 ],
 "metadata": {
  "kernelspec": {
   "display_name": ".venv",
   "language": "python",
   "name": "python3"
  },
  "language_info": {
   "codemirror_mode": {
    "name": "ipython",
    "version": 3
   },
   "file_extension": ".py",
   "mimetype": "text/x-python",
   "name": "python",
   "nbconvert_exporter": "python",
   "pygments_lexer": "ipython3",
   "version": "3.10.12"
  }
 },
 "nbformat": 4,
 "nbformat_minor": 2
}
