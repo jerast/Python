{
 "cells": [
  {
   "cell_type": "markdown",
   "metadata": {},
   "source": [
    "# **Linear Regression Model**"
   ]
  },
  {
   "cell_type": "markdown",
   "metadata": {},
   "source": [
    "## **Fisrt Steps**"
   ]
  },
  {
   "cell_type": "code",
   "execution_count": 347,
   "metadata": {},
   "outputs": [],
   "source": [
    "# Set imports\n",
    "import pandas\n",
    "import numpy\n",
    "import seaborn\n",
    "from matplotlib import pyplot\n",
    "from sklearn.linear_model import LinearRegression\n",
    "from sklearn.model_selection import train_test_split\n",
    "from sklearn.metrics import mean_squared_error\n",
    "from sklearn.metrics import root_mean_squared_error\n",
    "from sklearn.metrics import r2_score\n"
   ]
  },
  {
   "cell_type": "code",
   "execution_count": 348,
   "metadata": {},
   "outputs": [],
   "source": [
    "# Set Variables\n",
    "data_path = '../assets/data_filtered.csv'\n",
    "\n",
    "selected_item = 'FZ150'\n",
    "time_frequencies = ['D', '3D', 'W', '3W', 'ME', '3ME']\n",
    "time_frequency_preview = 'ME'\n",
    "model_random_seed = 42\n",
    "\n",
    "show_plots = False"
   ]
  },
  {
   "cell_type": "markdown",
   "metadata": {},
   "source": [
    "#### Set Functions"
   ]
  },
  {
   "cell_type": "code",
   "execution_count": 349,
   "metadata": {},
   "outputs": [],
   "source": [
    "class Struct:\n",
    "    def __init__(self, **kwargs):\n",
    "        for key, value in kwargs.items():\n",
    "            if isinstance(value, dict):\n",
    "                self.__dict__[key] = Struct(**value)\n",
    "            else:\n",
    "                self.__dict__[key] = value"
   ]
  },
  {
   "cell_type": "code",
   "execution_count": 350,
   "metadata": {},
   "outputs": [],
   "source": [
    "def plotter(xy, title, y_limit, grid):\n",
    "   \n",
    "   dataframe = xy.copy()\n",
    "   dataframe['fecha_ordinal'] = dataframe['fecha'].map(pandas.Timestamp.toordinal)\n",
    "   time = numpy.asarray(dataframe['fecha'], dtype='datetime64[s]')\n",
    "\n",
    "   coef = numpy.polyfit(dataframe['fecha_ordinal'], dataframe[selected_item], 1)\n",
    "   poly1d_fn = numpy.poly1d(coef)  # Obtener la función polinómica de grado 1\n",
    "\n",
    "   figure, axes = pyplot.subplots(nrows=1, ncols=1, figsize=(10, 3))\n",
    "\n",
    "   ax = axes\n",
    "   ax.scatter(time, dataframe[selected_item], s=12, label=selected_item)\n",
    "   ax.plot(time, poly1d_fn(dataframe['fecha_ordinal']), color='purple', label='Tendencia lineal')\n",
    "   ax.tick_params(axis='x', labelrotation=0)\n",
    "   ax.margins(x=0.03, y=0.04)\n",
    "   ax.set(\n",
    "      title='  |  '.join(title),\n",
    "      xlabel='Fecha', \n",
    "      ylabel='No. de Ventas',\n",
    "      ylim=y_limit\n",
    "   )\n",
    "   ax.legend()\n",
    "   if grid: \n",
    "      ax.grid()\n",
    "\n",
    "   figure.tight_layout()"
   ]
  },
  {
   "cell_type": "code",
   "execution_count": 351,
   "metadata": {},
   "outputs": [],
   "source": [
    "def standart_deviation_filter(data, value):\n",
    "   media = data[value].mean()\n",
    "   desv_std = data[value].std()\n",
    "   rango_valido = [media - 3 * desv_std, media + 3 * desv_std]\n",
    "\n",
    "   # Filtrar datos dentro del rango válido\n",
    "   return data[(data[value] >= rango_valido[0]) & (data[value] <= rango_valido[1])]"
   ]
  },
  {
   "cell_type": "code",
   "execution_count": 352,
   "metadata": {},
   "outputs": [],
   "source": [
    "def quantiles_filter(data, value):\n",
    "   # Límites basados en cuartiles\n",
    "   Q1 = data[value].quantile(0.25)\n",
    "   Q3 = data[value].quantile(0.75)\n",
    "   IQR = Q3 - Q1\n",
    "   rango_valido = [Q1 - 1.5 * IQR, Q3 + 1.5 * IQR]\n",
    "   rango_valido_min = rango_valido[0]\n",
    "   rango_valido_max = rango_valido[1]\n",
    "\n",
    "   # Filtrar datos dentro del rango válido\n",
    "   return data[(data[value] >= rango_valido_min) & (data[value] <= rango_valido_max)]"
   ]
  },
  {
   "cell_type": "code",
   "execution_count": 353,
   "metadata": {},
   "outputs": [],
   "source": [
    "def linear_regression(data_x, data_y):\n",
    "   model = LinearRegression()\n",
    "\n",
    "   # Dividir los datos en conjuntos de entrenamiento y prueba\n",
    "   X_train, X_test, y_train, y_test = train_test_split(data_x, data_y, train_size=0.8, test_size=0.2, random_state=model_random_seed)\n",
    "\n",
    "   # Crear y entrenar el modelo\n",
    "   model.fit(X_train, y_train)\n",
    "   \n",
    "   # Realizar predicciones en el conjunto de prueba\n",
    "   y_pred = model.predict(X_test)\n",
    "\n",
    "   # Calcular el MSE y el R^2\n",
    "   data_min = data_y.min()\n",
    "   data_max = data_y.max()\n",
    "\n",
    "   ecm = mean_squared_error(y_test, y_pred)\n",
    "   recm = root_mean_squared_error(y_test, y_pred)\n",
    "   precm = recm / (data_max - data_min) * 100\n",
    "\n",
    "   r2 = r2_score(y_test, y_pred)\n",
    "   pr2 = r2 * 100\n",
    "\n",
    "   data_trainig = {\n",
    "      'x_test': X_test,\n",
    "      'x_train': X_train,\n",
    "      'y_test': y_test,\n",
    "      'y_train': y_train,\n",
    "      'y_pred': y_pred\n",
    "   }\n",
    "   results = {\n",
    "      'range': (data_min, data_max),\n",
    "\n",
    "      'ecm': ecm,\n",
    "      'recm': recm,\n",
    "      'precm': precm,\n",
    "\n",
    "      'r2': r2, \n",
    "      'pr2': pr2\n",
    "   }\n",
    "\n",
    "   return Struct(**{\n",
    "      'model': model,\n",
    "      'training': data_trainig,\n",
    "      'results': results\n",
    "   })"
   ]
  },
  {
   "cell_type": "code",
   "execution_count": 354,
   "metadata": {},
   "outputs": [],
   "source": [
    "def frequency_spliter(data):\n",
    "   data_splitted = {}\n",
    "   \n",
    "   for frequency in time_frequencies:\n",
    "      data_metadata = {}\n",
    "\n",
    "      frequency_data = data.groupby(pandas.Grouper(key='fecha', freq=frequency, sort=True)).sum().reset_index() if frequency != 'D' else data.copy()\n",
    "\n",
    "      # Ennumerate data\n",
    "      date_reference = frequency_data['fecha'].min()\n",
    "      frequency_data['dia'] = (frequency_data['fecha'] - date_reference).dt.days + 1\n",
    "      # freq_data['dia'] = freq_data['fecha'] = range(1, len(freq_data) + 1)\n",
    "\n",
    "      # freq_data.insert(1, 'dia', (freq_data['fecha'].dt.to_period('D') + 1 - freq_data['fecha'].dt.to_period('D').min()).apply(lambda x: x.n))\n",
    "      # freq_data.insert(1, 'mes', (freq_data['fecha'].dt.to_period('M') + 1 - freq_data['fecha'].dt.to_period('M').min()).apply(lambda x: x.n))\n",
    "      # freq_data.insert(1, 'año', (freq_data['fecha'].dt.to_period('Y') + 1 - freq_data['fecha'].dt.to_period('Y').min()).apply(lambda x: x.n))\n",
    "\n",
    "      data_min = frequency_data[selected_item].min()\n",
    "      data_max = frequency_data[selected_item].max()\n",
    "      range_diff = (data_max - data_min) / 20\n",
    "      range_min = -range_diff if data_min <= 0 else 0\n",
    "\n",
    "      data_metadata['dataset'] = frequency_data\n",
    "      data_metadata['time'] = numpy.asarray(frequency_data['fecha'], dtype='datetime64[s]')\n",
    "      data_metadata['range'] = (range_min, data_max + range_diff)\n",
    "\n",
    "      data_splitted[frequency] = Struct(**data_metadata)\n",
    "   \n",
    "   return data_splitted"
   ]
  },
  {
   "cell_type": "markdown",
   "metadata": {},
   "source": [
    "## **Prepare Data**"
   ]
  },
  {
   "cell_type": "code",
   "execution_count": 355,
   "metadata": {},
   "outputs": [],
   "source": [
    "# Load and prepare Dataset\n",
    "datos = pandas.read_csv(data_path, parse_dates=['fecha'], date_format='%Y-%m-%d')"
   ]
  },
  {
   "cell_type": "code",
   "execution_count": 356,
   "metadata": {},
   "outputs": [],
   "source": [
    "# Set Independent Data\n",
    "items = list( datos.iloc[:, 1:-1].keys() )\n",
    "independent_data = ['dia']"
   ]
  },
  {
   "cell_type": "code",
   "execution_count": 357,
   "metadata": {},
   "outputs": [],
   "source": [
    "# Filter data by time-frequencies\n",
    "data = frequency_spliter(data=datos)"
   ]
  },
  {
   "cell_type": "code",
   "execution_count": 358,
   "metadata": {},
   "outputs": [],
   "source": [
    "# Prepare data example to plot\n",
    "data_example = data[time_frequency_preview]\n",
    "show_plot_grids = True"
   ]
  },
  {
   "cell_type": "markdown",
   "metadata": {},
   "source": [
    "## **Out Atypical Data Filter**"
   ]
  },
  {
   "cell_type": "code",
   "execution_count": 359,
   "metadata": {},
   "outputs": [],
   "source": [
    "# Filter data removing Out atypical (extreme) values\n",
    "\n",
    "# Stardart deviation limits\n",
    "st_dev_data = standart_deviation_filter(data=data_example.dataset, value=selected_item)\n",
    "st_dev_time = numpy.asarray(st_dev_data['fecha'], dtype='datetime64[s]')\n",
    "\n",
    "# Quantiles limits\n",
    "quant_data = quantiles_filter(data=data_example.dataset, value=selected_item)\n",
    "quant_time = numpy.asarray(quant_data['fecha'], dtype='datetime64[s]')"
   ]
  },
  {
   "cell_type": "code",
   "execution_count": 360,
   "metadata": {},
   "outputs": [
    {
     "data": {
      "image/png": "[encoded data removed]",
      "text/plain": [
       "<Figure size 1000x300 with 1 Axes>"
      ]
     },
     "metadata": {},
     "output_type": "display_data"
    }
   ],
   "source": [
    "# Example data plot\n",
    "# if show_plots:\n",
    "plotter(\n",
    "   xy=data_example.dataset[['fecha' ,selected_item]], \n",
    "   title=[selected_item, f'freq = {time_frequency_preview}', 'Data Origin'], \n",
    "   y_limit=data_example.range,\n",
    "   grid=show_plot_grids,\n",
    ")"
   ]
  },
  {
   "cell_type": "code",
   "execution_count": 361,
   "metadata": {},
   "outputs": [],
   "source": [
    "# Stardart Deviation plot\n",
    "if show_plots:\n",
    "   plotter(\n",
    "      xy=st_dev_data[['fecha' ,selected_item]], \n",
    "      title=[selected_item, f'freq = {time_frequency_preview}', 'Filtrado de Datos Atípicos (Desviación Estandar)'], \n",
    "      y_limit=data_example.range,\n",
    "      grid=show_plot_grids,\n",
    "   )"
   ]
  },
  {
   "cell_type": "code",
   "execution_count": 362,
   "metadata": {},
   "outputs": [],
   "source": [
    "# Quantiles plot\n",
    "if show_plots:\n",
    "   plotter(\n",
    "      xy=quant_data[['fecha' ,selected_item]], \n",
    "      title=[selected_item, f'freq = {time_frequency_preview}', 'Filtrado de Datos Atípicos (Cuantiles)'], \n",
    "      y_limit=data_example.range,\n",
    "      grid=show_plot_grids,\n",
    "   )"
   ]
  },
  {
   "cell_type": "code",
   "execution_count": 363,
   "metadata": {},
   "outputs": [],
   "source": [
    "# Limits comparison plot\n",
    "if show_plots:\n",
    "   figure, axes = pyplot.subplots(ncols=3, figsize=(10, 4.5))\n",
    "\n",
    "   ax = axes[0]\n",
    "   ax.boxplot(data_example.dataset[selected_item], showfliers=False)\n",
    "   ax.scatter(x=[.8] * len(data_example.dataset), y=data_example.dataset[selected_item], alpha=0.3, s=24)\n",
    "   ax.grid()\n",
    "   ax.set(\n",
    "      title='Ventas  |  Original Data',\n",
    "      ylabel=selected_item,\n",
    "      ylim=data_example.range,\n",
    "      xticks=([])\n",
    "   )\n",
    "\n",
    "   ax = axes[1]\n",
    "   ax.boxplot(st_dev_data[selected_item], showfliers=False)\n",
    "   ax.scatter(x=[.8] * len(st_dev_data), y=st_dev_data[selected_item], alpha=0.3, s=24)\n",
    "   ax.grid()\n",
    "   ax.set(\n",
    "      title='Ventas  |  Desv. Estándar',\n",
    "      ylim=data_example.range,\n",
    "      xticks=([])\n",
    "   )\n",
    "\n",
    "   ax = axes[2]\n",
    "   ax.boxplot(quant_data[selected_item], showfliers=True)\n",
    "   ax.scatter(x=[.8] * len(quant_data), y=quant_data[selected_item], alpha=0.3, s=24)\n",
    "   ax.grid()\n",
    "   ax.set(\n",
    "      title='Ventas  |  Lim. Cuantiles',\n",
    "      ylim=data_example.range,\n",
    "      xticks=([])\n",
    "   )\n"
   ]
  },
  {
   "cell_type": "code",
   "execution_count": 364,
   "metadata": {},
   "outputs": [],
   "source": [
    "# Data example histogram\n",
    "if show_plots:\n",
    "   histogram_plot = pandas.DataFrame(data_example.dataset[selected_item])\n",
    "\n",
    "   fig, ax = pyplot.subplots(figsize=(9.8, 3.5))\n",
    "\n",
    "   seaborn.histplot(histogram_plot, \n",
    "      x=selected_item, \n",
    "      bins=20, \n",
    "      kde=True, \n",
    "      kde_kws = {'bw_adjust': .7}\n",
    "   ).lines[0].set_color('blue')"
   ]
  },
  {
   "cell_type": "markdown",
   "metadata": {},
   "source": [
    "## **Model Train and Test**"
   ]
  },
  {
   "cell_type": "code",
   "execution_count": 365,
   "metadata": {},
   "outputs": [
    {
     "data": {
      "text/html": [
       "<div>\n",
       "<style scoped>\n",
       "    .dataframe tbody tr th:only-of-type {\n",
       "        vertical-align: middle;\n",
       "    }\n",
       "\n",
       "    .dataframe tbody tr th {\n",
       "        vertical-align: top;\n",
       "    }\n",
       "\n",
       "    .dataframe thead th {\n",
       "        text-align: right;\n",
       "    }\n",
       "</style>\n",
       "<table border=\"1\" class=\"dataframe\">\n",
       "  <thead>\n",
       "    <tr style=\"text-align: right;\">\n",
       "      <th></th>\n",
       "      <th>dia</th>\n",
       "      <th>FZ150</th>\n",
       "    </tr>\n",
       "  </thead>\n",
       "  <tbody>\n",
       "    <tr>\n",
       "      <th>0</th>\n",
       "      <td>1</td>\n",
       "      <td>194</td>\n",
       "    </tr>\n",
       "    <tr>\n",
       "      <th>1</th>\n",
       "      <td>29</td>\n",
       "      <td>79</td>\n",
       "    </tr>\n",
       "    <tr>\n",
       "      <th>2</th>\n",
       "      <td>60</td>\n",
       "      <td>164</td>\n",
       "    </tr>\n",
       "    <tr>\n",
       "      <th>3</th>\n",
       "      <td>90</td>\n",
       "      <td>142</td>\n",
       "    </tr>\n",
       "    <tr>\n",
       "      <th>4</th>\n",
       "      <td>121</td>\n",
       "      <td>144</td>\n",
       "    </tr>\n",
       "  </tbody>\n",
       "</table>\n",
       "</div>"
      ],
      "text/plain": [
       "   dia  FZ150\n",
       "0    1    194\n",
       "1   29     79\n",
       "2   60    164\n",
       "3   90    142\n",
       "4  121    144"
      ]
     },
     "execution_count": 365,
     "metadata": {},
     "output_type": "execute_result"
    }
   ],
   "source": [
    "# Example data - Run Model\n",
    "data_example = data[time_frequency_preview].dataset\n",
    "data_example_model = linear_regression(\n",
    "   data_x=data_example[independent_data], \n",
    "   data_y=data_example[selected_item]\n",
    ")\n",
    "data_example[['dia', selected_item]].head()"
   ]
  },
  {
   "cell_type": "code",
   "execution_count": 366,
   "metadata": {},
   "outputs": [
    {
     "data": {
      "text/html": [
       "<div>\n",
       "<style scoped>\n",
       "    .dataframe tbody tr th:only-of-type {\n",
       "        vertical-align: middle;\n",
       "    }\n",
       "\n",
       "    .dataframe tbody tr th {\n",
       "        vertical-align: top;\n",
       "    }\n",
       "\n",
       "    .dataframe thead th {\n",
       "        text-align: right;\n",
       "    }\n",
       "</style>\n",
       "<table border=\"1\" class=\"dataframe\">\n",
       "  <thead>\n",
       "    <tr style=\"text-align: right;\">\n",
       "      <th></th>\n",
       "      <th>dia</th>\n",
       "      <th>FZ150</th>\n",
       "      <th>pred</th>\n",
       "    </tr>\n",
       "  </thead>\n",
       "  <tbody>\n",
       "    <tr>\n",
       "      <th>8</th>\n",
       "      <td>243</td>\n",
       "      <td>155</td>\n",
       "      <td>125.0</td>\n",
       "    </tr>\n",
       "    <tr>\n",
       "      <th>16</th>\n",
       "      <td>486</td>\n",
       "      <td>84</td>\n",
       "      <td>90.0</td>\n",
       "    </tr>\n",
       "    <tr>\n",
       "      <th>0</th>\n",
       "      <td>1</td>\n",
       "      <td>194</td>\n",
       "      <td>160.0</td>\n",
       "    </tr>\n",
       "    <tr>\n",
       "      <th>18</th>\n",
       "      <td>547</td>\n",
       "      <td>82</td>\n",
       "      <td>81.0</td>\n",
       "    </tr>\n",
       "    <tr>\n",
       "      <th>11</th>\n",
       "      <td>335</td>\n",
       "      <td>114</td>\n",
       "      <td>111.0</td>\n",
       "    </tr>\n",
       "  </tbody>\n",
       "</table>\n",
       "</div>"
      ],
      "text/plain": [
       "    dia  FZ150   pred\n",
       "8   243    155  125.0\n",
       "16  486     84   90.0\n",
       "0     1    194  160.0\n",
       "18  547     82   81.0\n",
       "11  335    114  111.0"
      ]
     },
     "execution_count": 366,
     "metadata": {},
     "output_type": "execute_result"
    }
   ],
   "source": [
    "# Example data - Results\n",
    "data_example_training = data_example_model.training\n",
    "data_example_predict = data_example_training.y_pred\n",
    "with numpy.nditer(data_example_predict, op_flags=['readwrite']) as it:\n",
    "   for x in it:\n",
    "      x[...] = f'{x:.0f}'\n",
    "data_example_predict = pandas.DataFrame({ 'pred': data_example_predict }, index=list(data_example_training.y_test.index))\n",
    "\n",
    "df_merged = pandas.concat([\n",
    "   data_example_training.x_test, \n",
    "   data_example_training.y_test,\n",
    "   data_example_predict\n",
    "], axis=1, join='inner')\n",
    "df_merged.rename(columns={selected_item: 'real'})\n",
    "df_merged.head(10)\n"
   ]
  },
  {
   "cell_type": "code",
   "execution_count": 367,
   "metadata": {},
   "outputs": [
    {
     "name": "stdout",
     "output_type": "stream",
     "text": [
      "Item: FZ150\n",
      "Freq: ME\n",
      "\n",
      "Range: (51, 199)\n",
      "RECM: ± 21\n",
      "RECM(%): 13.96 %\n",
      "R^2(%): 77.07 %\n"
     ]
    }
   ],
   "source": [
    "# Example data - Model Results\n",
    "data_example_results = data_example_model.results\n",
    "\n",
    "print(f'Item: {selected_item}')\n",
    "print(f'Freq: {time_frequency_preview}\\n')\n",
    "print(f'Range: {data_example_results.range}') # Selected Item Value Ranges\n",
    "\n",
    "# print(f'MSE: {data_example_results.ecm}') # Error Cuadrático Medio\n",
    "print(f'RECM: ± {data_example_results.recm:.0f}') # Raíz del Error Cuadrático Medio\n",
    "print(f'RECM(%): {data_example_results.precm:.2f} %') # Porcentaje de la Raíz del Error Cuadrático Medio\n",
    "\n",
    "# print(f'R^2: {data_example_results.r2}') # R-Cuadrado (ajuste del modelo)\n",
    "print(f'R^2(%): {data_example_results.pr2:.2f} %') # Porcentaje de R-Cuadrado"
   ]
  },
  {
   "cell_type": "markdown",
   "metadata": {},
   "source": [
    "## **Run Model**"
   ]
  },
  {
   "cell_type": "code",
   "execution_count": 368,
   "metadata": {},
   "outputs": [],
   "source": [
    "# Results mappers\n",
    "rmse_results = {\n",
    "   'Orig. Range': [],\n",
    "   'Orig.': [], \n",
    "   'Stand. Dev. Range': [],\n",
    "   'Stand. Dev.': [], \n",
    "   'Quant. Range': [],\n",
    "   'Quant.': [],\n",
    "}\n",
    "\n",
    "prmse_results = {\n",
    "   'Orig.': [],\n",
    "   'Stand. Dev.': [],\n",
    "   'Quant.': [],\n",
    "}\n",
    "\n",
    "pr2_results = {\n",
    "   'Orig.': [],\n",
    "   'Stand. Dev.': [], \n",
    "   'Quant.': [],\n",
    "}"
   ]
  },
  {
   "cell_type": "code",
   "execution_count": 369,
   "metadata": {},
   "outputs": [],
   "source": [
    "# Run model by freq and limit filter\n",
    "for freq in time_frequencies:\n",
    "\n",
    "   # Original data\n",
    "   data_model = linear_regression(data_x=data[freq].dataset[independent_data], data_y=data[freq].dataset[selected_item])\n",
    "   data_model_results = data_model.results\n",
    "\n",
    "   rmse_results['Orig. Range'].append( f'{data_model_results.range}' )\n",
    "   rmse_results['Orig.'].append( f'{data_model_results.recm:.0f}' )\n",
    "   prmse_results['Orig.'].append( f'{data_model_results.precm:.1f}%' )\n",
    "   pr2_results['Orig.'].append( f'{data_model_results.pr2:.0f}%' )\n",
    "\n",
    "   # Standart deviation data\n",
    "   st_dev_data = standart_deviation_filter(data=data[freq].dataset, value=selected_item)\n",
    "   st_dev_model = linear_regression(data_x=st_dev_data[independent_data], data_y=st_dev_data[selected_item])\n",
    "   st_dev_model_results = st_dev_model.results\n",
    "\n",
    "   rmse_results['Stand. Dev. Range'].append( f'{st_dev_model_results.range}' )\n",
    "   rmse_results['Stand. Dev.'].append( f'{st_dev_model_results.recm:.0f}' )\n",
    "   prmse_results['Stand. Dev.'].append( f'{st_dev_model_results.precm:.1f}%' )\n",
    "   pr2_results['Stand. Dev.'].append( f'{st_dev_model_results.pr2:.0f}%' )\n",
    "\n",
    "   # Quantiles data\n",
    "   quant_data = standart_deviation_filter(data=data[freq].dataset, value=selected_item)\n",
    "   quant_model = linear_regression(data_x=quant_data[independent_data], data_y=quant_data[selected_item])\n",
    "   quant_model_results = quant_model.results\n",
    "   rmse_results['Quant. Range'].append( f'{quant_model_results.range}' )\n",
    "   rmse_results['Quant.'].append( f'{quant_model_results.recm:.0f}' )\n",
    "   prmse_results['Quant.'].append( f'{quant_model_results.precm:.1f}%' )\n",
    "   pr2_results['Quant.'].append( f'{quant_model_results.pr2:.0f}%' )"
   ]
  },
  {
   "cell_type": "code",
   "execution_count": 370,
   "metadata": {},
   "outputs": [],
   "source": [
    "# Show RMSE results\n",
    "General_RMSE_Results = pandas.DataFrame(rmse_results, index=time_frequencies)\n",
    "# General_RMSE_Results"
   ]
  },
  {
   "cell_type": "code",
   "execution_count": 371,
   "metadata": {},
   "outputs": [
    {
     "data": {
      "text/html": [
       "<div>\n",
       "<style scoped>\n",
       "    .dataframe tbody tr th:only-of-type {\n",
       "        vertical-align: middle;\n",
       "    }\n",
       "\n",
       "    .dataframe tbody tr th {\n",
       "        vertical-align: top;\n",
       "    }\n",
       "\n",
       "    .dataframe thead th {\n",
       "        text-align: right;\n",
       "    }\n",
       "</style>\n",
       "<table border=\"1\" class=\"dataframe\">\n",
       "  <thead>\n",
       "    <tr style=\"text-align: right;\">\n",
       "      <th></th>\n",
       "      <th>Orig.</th>\n",
       "      <th>Stand. Dev.</th>\n",
       "      <th>Quant.</th>\n",
       "    </tr>\n",
       "  </thead>\n",
       "  <tbody>\n",
       "    <tr>\n",
       "      <th>D</th>\n",
       "      <td>15.7%</td>\n",
       "      <td>21.3%</td>\n",
       "      <td>21.3%</td>\n",
       "    </tr>\n",
       "    <tr>\n",
       "      <th>3D</th>\n",
       "      <td>17.2%</td>\n",
       "      <td>22.6%</td>\n",
       "      <td>22.6%</td>\n",
       "    </tr>\n",
       "    <tr>\n",
       "      <th>W</th>\n",
       "      <td>15.1%</td>\n",
       "      <td>13.5%</td>\n",
       "      <td>13.5%</td>\n",
       "    </tr>\n",
       "    <tr>\n",
       "      <th>3W</th>\n",
       "      <td>13.5%</td>\n",
       "      <td>13.5%</td>\n",
       "      <td>13.5%</td>\n",
       "    </tr>\n",
       "    <tr>\n",
       "      <th>ME</th>\n",
       "      <td>14.0%</td>\n",
       "      <td>14.0%</td>\n",
       "      <td>14.0%</td>\n",
       "    </tr>\n",
       "    <tr>\n",
       "      <th>3ME</th>\n",
       "      <td>3.4%</td>\n",
       "      <td>3.4%</td>\n",
       "      <td>3.4%</td>\n",
       "    </tr>\n",
       "  </tbody>\n",
       "</table>\n",
       "</div>"
      ],
      "text/plain": [
       "     Orig. Stand. Dev. Quant.\n",
       "D    15.7%       21.3%  21.3%\n",
       "3D   17.2%       22.6%  22.6%\n",
       "W    15.1%       13.5%  13.5%\n",
       "3W   13.5%       13.5%  13.5%\n",
       "ME   14.0%       14.0%  14.0%\n",
       "3ME   3.4%        3.4%   3.4%"
      ]
     },
     "execution_count": 371,
     "metadata": {},
     "output_type": "execute_result"
    }
   ],
   "source": [
    "# Show RMSE (%) results\n",
    "General_PRMSE_Results = pandas.DataFrame(prmse_results, index=time_frequencies)\n",
    "General_PRMSE_Results"
   ]
  },
  {
   "cell_type": "code",
   "execution_count": 372,
   "metadata": {},
   "outputs": [
    {
     "data": {
      "text/html": [
       "<div>\n",
       "<style scoped>\n",
       "    .dataframe tbody tr th:only-of-type {\n",
       "        vertical-align: middle;\n",
       "    }\n",
       "\n",
       "    .dataframe tbody tr th {\n",
       "        vertical-align: top;\n",
       "    }\n",
       "\n",
       "    .dataframe thead th {\n",
       "        text-align: right;\n",
       "    }\n",
       "</style>\n",
       "<table border=\"1\" class=\"dataframe\">\n",
       "  <thead>\n",
       "    <tr style=\"text-align: right;\">\n",
       "      <th></th>\n",
       "      <th>Orig.</th>\n",
       "      <th>Stand. Dev.</th>\n",
       "      <th>Quant.</th>\n",
       "    </tr>\n",
       "  </thead>\n",
       "  <tbody>\n",
       "    <tr>\n",
       "      <th>D</th>\n",
       "      <td>13%</td>\n",
       "      <td>14%</td>\n",
       "      <td>14%</td>\n",
       "    </tr>\n",
       "    <tr>\n",
       "      <th>3D</th>\n",
       "      <td>7%</td>\n",
       "      <td>-27%</td>\n",
       "      <td>-27%</td>\n",
       "    </tr>\n",
       "    <tr>\n",
       "      <th>W</th>\n",
       "      <td>41%</td>\n",
       "      <td>45%</td>\n",
       "      <td>45%</td>\n",
       "    </tr>\n",
       "    <tr>\n",
       "      <th>3W</th>\n",
       "      <td>63%</td>\n",
       "      <td>63%</td>\n",
       "      <td>63%</td>\n",
       "    </tr>\n",
       "    <tr>\n",
       "      <th>ME</th>\n",
       "      <td>77%</td>\n",
       "      <td>77%</td>\n",
       "      <td>77%</td>\n",
       "    </tr>\n",
       "    <tr>\n",
       "      <th>3ME</th>\n",
       "      <td>97%</td>\n",
       "      <td>97%</td>\n",
       "      <td>97%</td>\n",
       "    </tr>\n",
       "  </tbody>\n",
       "</table>\n",
       "</div>"
      ],
      "text/plain": [
       "    Orig. Stand. Dev. Quant.\n",
       "D     13%         14%    14%\n",
       "3D     7%        -27%   -27%\n",
       "W     41%         45%    45%\n",
       "3W    63%         63%    63%\n",
       "ME    77%         77%    77%\n",
       "3ME   97%         97%    97%"
      ]
     },
     "execution_count": 372,
     "metadata": {},
     "output_type": "execute_result"
    }
   ],
   "source": [
    "# Show R2 results\n",
    "General_R2_Results = pandas.DataFrame(pr2_results, index=time_frequencies)\n",
    "General_R2_Results"
   ]
  },
  {
   "cell_type": "markdown",
   "metadata": {},
   "source": [
    "## **Model Predictions**"
   ]
  },
  {
   "cell_type": "code",
   "execution_count": 373,
   "metadata": {},
   "outputs": [],
   "source": [
    "# Final prediction\n",
    "selected_data = data[time_frequency_preview].dataset.copy()"
   ]
  },
  {
   "cell_type": "code",
   "execution_count": 374,
   "metadata": {},
   "outputs": [
    {
     "data": {
      "text/html": [
       "<div>\n",
       "<style scoped>\n",
       "    .dataframe tbody tr th:only-of-type {\n",
       "        vertical-align: middle;\n",
       "    }\n",
       "\n",
       "    .dataframe tbody tr th {\n",
       "        vertical-align: top;\n",
       "    }\n",
       "\n",
       "    .dataframe thead th {\n",
       "        text-align: right;\n",
       "    }\n",
       "</style>\n",
       "<table border=\"1\" class=\"dataframe\">\n",
       "  <thead>\n",
       "    <tr style=\"text-align: right;\">\n",
       "      <th></th>\n",
       "      <th>fecha</th>\n",
       "      <th>dia</th>\n",
       "      <th>FZ150</th>\n",
       "    </tr>\n",
       "  </thead>\n",
       "  <tbody>\n",
       "    <tr>\n",
       "      <th>0</th>\n",
       "      <td>2022-01-31</td>\n",
       "      <td>1</td>\n",
       "      <td>194</td>\n",
       "    </tr>\n",
       "    <tr>\n",
       "      <th>1</th>\n",
       "      <td>2022-02-28</td>\n",
       "      <td>29</td>\n",
       "      <td>79</td>\n",
       "    </tr>\n",
       "    <tr>\n",
       "      <th>2</th>\n",
       "      <td>2022-03-31</td>\n",
       "      <td>60</td>\n",
       "      <td>164</td>\n",
       "    </tr>\n",
       "    <tr>\n",
       "      <th>3</th>\n",
       "      <td>2022-04-30</td>\n",
       "      <td>90</td>\n",
       "      <td>142</td>\n",
       "    </tr>\n",
       "    <tr>\n",
       "      <th>4</th>\n",
       "      <td>2022-05-31</td>\n",
       "      <td>121</td>\n",
       "      <td>144</td>\n",
       "    </tr>\n",
       "  </tbody>\n",
       "</table>\n",
       "</div>"
      ],
      "text/plain": [
       "       fecha  dia  FZ150\n",
       "0 2022-01-31    1    194\n",
       "1 2022-02-28   29     79\n",
       "2 2022-03-31   60    164\n",
       "3 2022-04-30   90    142\n",
       "4 2022-05-31  121    144"
      ]
     },
     "execution_count": 374,
     "metadata": {},
     "output_type": "execute_result"
    }
   ],
   "source": [
    "selected_data[['fecha', 'dia', selected_item]].head()"
   ]
  },
  {
   "cell_type": "code",
   "execution_count": 375,
   "metadata": {},
   "outputs": [
    {
     "data": {
      "text/html": [
       "<div>\n",
       "<style scoped>\n",
       "    .dataframe tbody tr th:only-of-type {\n",
       "        vertical-align: middle;\n",
       "    }\n",
       "\n",
       "    .dataframe tbody tr th {\n",
       "        vertical-align: top;\n",
       "    }\n",
       "\n",
       "    .dataframe thead th {\n",
       "        text-align: right;\n",
       "    }\n",
       "</style>\n",
       "<table border=\"1\" class=\"dataframe\">\n",
       "  <thead>\n",
       "    <tr style=\"text-align: right;\">\n",
       "      <th></th>\n",
       "      <th>fecha</th>\n",
       "      <th>dia</th>\n",
       "      <th>FZ150</th>\n",
       "    </tr>\n",
       "  </thead>\n",
       "  <tbody>\n",
       "    <tr>\n",
       "      <th>19</th>\n",
       "      <td>2023-08-31</td>\n",
       "      <td>578</td>\n",
       "      <td>83</td>\n",
       "    </tr>\n",
       "    <tr>\n",
       "      <th>20</th>\n",
       "      <td>2023-09-30</td>\n",
       "      <td>608</td>\n",
       "      <td>64</td>\n",
       "    </tr>\n",
       "    <tr>\n",
       "      <th>21</th>\n",
       "      <td>2023-10-31</td>\n",
       "      <td>639</td>\n",
       "      <td>80</td>\n",
       "    </tr>\n",
       "    <tr>\n",
       "      <th>22</th>\n",
       "      <td>2023-11-30</td>\n",
       "      <td>669</td>\n",
       "      <td>57</td>\n",
       "    </tr>\n",
       "    <tr>\n",
       "      <th>23</th>\n",
       "      <td>2023-12-31</td>\n",
       "      <td>700</td>\n",
       "      <td>51</td>\n",
       "    </tr>\n",
       "  </tbody>\n",
       "</table>\n",
       "</div>"
      ],
      "text/plain": [
       "        fecha  dia  FZ150\n",
       "19 2023-08-31  578     83\n",
       "20 2023-09-30  608     64\n",
       "21 2023-10-31  639     80\n",
       "22 2023-11-30  669     57\n",
       "23 2023-12-31  700     51"
      ]
     },
     "execution_count": 375,
     "metadata": {},
     "output_type": "execute_result"
    }
   ],
   "source": [
    "selected_data[['fecha', 'dia', selected_item]].tail()"
   ]
  },
  {
   "cell_type": "code",
   "execution_count": 376,
   "metadata": {},
   "outputs": [],
   "source": [
    "# Training Model\n",
    "selected_lineal_regression = linear_regression(\n",
    "   data_x=selected_data[independent_data], \n",
    "   data_y=selected_data[selected_item]\n",
    ")\n",
    "selected_data_model = selected_lineal_regression.model"
   ]
  },
  {
   "cell_type": "code",
   "execution_count": 377,
   "metadata": {},
   "outputs": [],
   "source": [
    "# Set future dates to predict\n",
    "date_references = [selected_data['fecha'].min(), selected_data['fecha'].max()]\n",
    "\n",
    "future_dates = pandas.date_range(date_references[1], periods=6, freq=time_frequency_preview)\n",
    "data_future_dates = pandas.DataFrame({'fecha': future_dates})\n",
    "data_future_dates['dia'] = (data_future_dates['fecha'] - date_references[0]).dt.days + 1\n",
    "\n",
    "data_predictions = data_future_dates.iloc[1:].reset_index()[['fecha', 'dia']]\n",
    "# data_predictions"
   ]
  },
  {
   "cell_type": "code",
   "execution_count": 378,
   "metadata": {},
   "outputs": [
    {
     "data": {
      "text/html": [
       "<div>\n",
       "<style scoped>\n",
       "    .dataframe tbody tr th:only-of-type {\n",
       "        vertical-align: middle;\n",
       "    }\n",
       "\n",
       "    .dataframe tbody tr th {\n",
       "        vertical-align: top;\n",
       "    }\n",
       "\n",
       "    .dataframe thead th {\n",
       "        text-align: right;\n",
       "    }\n",
       "</style>\n",
       "<table border=\"1\" class=\"dataframe\">\n",
       "  <thead>\n",
       "    <tr style=\"text-align: right;\">\n",
       "      <th></th>\n",
       "      <th>fecha</th>\n",
       "      <th>dia</th>\n",
       "      <th>predictions</th>\n",
       "    </tr>\n",
       "  </thead>\n",
       "  <tbody>\n",
       "    <tr>\n",
       "      <th>0</th>\n",
       "      <td>2024-01-31</td>\n",
       "      <td>731</td>\n",
       "      <td>54</td>\n",
       "    </tr>\n",
       "    <tr>\n",
       "      <th>1</th>\n",
       "      <td>2024-02-29</td>\n",
       "      <td>760</td>\n",
       "      <td>50</td>\n",
       "    </tr>\n",
       "    <tr>\n",
       "      <th>2</th>\n",
       "      <td>2024-03-31</td>\n",
       "      <td>791</td>\n",
       "      <td>45</td>\n",
       "    </tr>\n",
       "    <tr>\n",
       "      <th>3</th>\n",
       "      <td>2024-04-30</td>\n",
       "      <td>821</td>\n",
       "      <td>41</td>\n",
       "    </tr>\n",
       "    <tr>\n",
       "      <th>4</th>\n",
       "      <td>2024-05-31</td>\n",
       "      <td>852</td>\n",
       "      <td>37</td>\n",
       "    </tr>\n",
       "  </tbody>\n",
       "</table>\n",
       "</div>"
      ],
      "text/plain": [
       "       fecha  dia  predictions\n",
       "0 2024-01-31  731           54\n",
       "1 2024-02-29  760           50\n",
       "2 2024-03-31  791           45\n",
       "3 2024-04-30  821           41\n",
       "4 2024-05-31  852           37"
      ]
     },
     "execution_count": 378,
     "metadata": {},
     "output_type": "execute_result"
    }
   ],
   "source": [
    "# Final Results\n",
    "predictions = list( selected_data_model.predict(data_predictions[['dia']]) )\n",
    "# predictions = list(map(int, predictions))\n",
    "predictions = [round(x) for x in predictions]\n",
    "\n",
    "data_predictions['predictions'] = pandas.DataFrame({ 'predictions': predictions })\n",
    "data_predictions"
   ]
  }
 ],
 "metadata": {
  "kernelspec": {
   "display_name": ".project_venv",
   "language": "python",
   "name": "python3"
  },
  "language_info": {
   "codemirror_mode": {
    "name": "ipython",
    "version": 3
   },
   "file_extension": ".py",
   "mimetype": "text/x-python",
   "name": "python",
   "nbconvert_exporter": "python",
   "pygments_lexer": "ipython3",
   "version": "3.10.12"
  }
 },
 "nbformat": 4,
 "nbformat_minor": 2
}
