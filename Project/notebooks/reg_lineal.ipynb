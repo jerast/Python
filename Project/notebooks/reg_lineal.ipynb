{
 "cells": [
  {
   "cell_type": "markdown",
   "metadata": {},
   "source": [
    "# **Linear Regression Model**"
   ]
  },
  {
   "cell_type": "markdown",
   "metadata": {},
   "source": [
    "## **Fisrt Steps**"
   ]
  },
  {
   "cell_type": "code",
   "execution_count": null,
   "metadata": {},
   "outputs": [],
   "source": [
    "# Set imports\n",
    "import pandas\n",
    "import numpy\n",
    "from matplotlib import pyplot\n",
    "from sklearn.linear_model import LinearRegression\n",
    "from sklearn.model_selection import train_test_split\n",
    "from sklearn.metrics import mean_squared_error\n",
    "from sklearn.metrics import root_mean_squared_error\n",
    "from sklearn.metrics import r2_score\n"
   ]
  },
  {
   "cell_type": "code",
   "execution_count": null,
   "metadata": {},
   "outputs": [],
   "source": [
    "# Set Variables\n",
    "data_path = '../assets/data_filtered.csv'\n",
    "\n",
    "selected_item = 'FZ150'\n",
    "time_frequencies = ['D', '3D', 'W', 'ME', '3ME']\n",
    "\n",
    "show_plots = True"
   ]
  },
  {
   "cell_type": "code",
   "execution_count": null,
   "metadata": {},
   "outputs": [],
   "source": [
    "class Struct:\n",
    "    def __init__(self, **kwargs):\n",
    "        for key, value in kwargs.items():\n",
    "            if isinstance(value, dict):\n",
    "                self.__dict__[key] = Struct(**value)\n",
    "            else:\n",
    "                self.__dict__[key] = value"
   ]
  },
  {
   "cell_type": "code",
   "execution_count": null,
   "metadata": {},
   "outputs": [],
   "source": [
    "def plotter(xy, title, y_limit, grid):\n",
    "   \n",
    "   dataframe = xy.copy()\n",
    "   dataframe['fecha_ordinal'] = dataframe['fecha'].map(pandas.Timestamp.toordinal)\n",
    "   time = numpy.asarray(dataframe['fecha'], dtype='datetime64[s]')\n",
    "\n",
    "   coef = numpy.polyfit(dataframe['fecha_ordinal'], dataframe[selected_item], 1)\n",
    "   poly1d_fn = numpy.poly1d(coef)  # Obtener la función polinómica de grado 1\n",
    "\n",
    "   figure, axes = pyplot.subplots(nrows=1, ncols=1, figsize=(10, 3))\n",
    "\n",
    "   ax = axes\n",
    "   ax.scatter(time, dataframe[selected_item], s=12, label=selected_item)\n",
    "   ax.plot(time, poly1d_fn(dataframe['fecha_ordinal']), color='red', label='Tendencia lineal')\n",
    "   ax.tick_params(axis='x', labelrotation=0)\n",
    "   ax.margins(x=0.03, y=0.04)\n",
    "   ax.set(\n",
    "      title='  |  '.join(title),\n",
    "      xlabel='Fecha', \n",
    "      ylabel='No. de Ventas',\n",
    "      ylim=y_limit\n",
    "   )\n",
    "   ax.legend()\n",
    "   if grid: \n",
    "      ax.grid()\n",
    "\n",
    "   figure.tight_layout()"
   ]
  },
  {
   "cell_type": "code",
   "execution_count": null,
   "metadata": {},
   "outputs": [],
   "source": [
    "def standart_deviation_filter(data, value):\n",
    "   media = data[value].mean()\n",
    "   desv_std = data[value].std()\n",
    "   rango_valido = [media - 3 * desv_std, media + 3 * desv_std]\n",
    "\n",
    "   # Filtrar datos dentro del rango válido\n",
    "   return data[(data[value] >= rango_valido[0]) & (data[value] <= rango_valido[1])]"
   ]
  },
  {
   "cell_type": "code",
   "execution_count": null,
   "metadata": {},
   "outputs": [],
   "source": [
    "def quantiles_filter(data, value):\n",
    "   # Límites basados en cuartiles\n",
    "   Q1 = data[value].quantile(0.25)\n",
    "   Q3 = data[value].quantile(0.75)\n",
    "   IQR = Q3 - Q1\n",
    "   rango_valido = [Q1 - 1.5 * IQR, Q3 + 1.5 * IQR]\n",
    "   rango_valido_min = rango_valido[0]\n",
    "   rango_valido_max = rango_valido[1]\n",
    "\n",
    "   # Filtrar datos dentro del rango válido\n",
    "   return data[(data[value] >= rango_valido_min) & (data[value] <= rango_valido_max)]"
   ]
  },
  {
   "cell_type": "code",
   "execution_count": null,
   "metadata": {},
   "outputs": [],
   "source": [
    "def linear_regression(data_x, data_y):\n",
    "   model = LinearRegression()\n",
    "\n",
    "   # Dividir los datos en conjuntos de entrenamiento y prueba\n",
    "   X_train, X_test, y_train, y_test = train_test_split(data_x, data_y, train_size=0.8, test_size=0.2, random_state=42)\n",
    "\n",
    "   # Crear y entrenar el modelo\n",
    "   model.fit(X_train, y_train)\n",
    "   \n",
    "   # Realizar predicciones en el conjunto de prueba\n",
    "   y_pred = model.predict(X_test)\n",
    "\n",
    "   # Calcular el MSE y el R^2\n",
    "   data_min = data_y.min()\n",
    "   data_max = data_y.max()\n",
    "\n",
    "   ecm = mean_squared_error(y_test, y_pred)\n",
    "   recm = root_mean_squared_error(y_test, y_pred)\n",
    "   precm = recm / (data_max - data_min) * 100\n",
    "\n",
    "   r2 = r2_score(y_test, y_pred)\n",
    "   pr2 = r2 * 100\n",
    "\n",
    "   results = {\n",
    "      'range': (data_min, data_max),\n",
    "\n",
    "      'ecm': mean_squared_error(y_test, y_pred),\n",
    "      'recm': numpy.sqrt(ecm), # Margen de error en las predicciones\n",
    "      'precm': precm, # Porcentaje de error\n",
    "\n",
    "      'r2': r2_score(y_test, y_pred), \n",
    "      'pr2': r2 * 100\n",
    "   }\n",
    "\n",
    "   return Struct(**results)"
   ]
  },
  {
   "cell_type": "code",
   "execution_count": null,
   "metadata": {},
   "outputs": [],
   "source": [
    "def frequency_spliter(data):\n",
    "   data_splitted = {}\n",
    "   \n",
    "   for frequency in time_frequencies:\n",
    "      data_metadata = {}\n",
    "\n",
    "      freq_data = data.groupby(pandas.Grouper(key='fecha', freq=frequency, sort=True)).sum().reset_index() if frequency != 'D' else data.copy()\n",
    "\n",
    "      freq_data.insert(1, 'dia', (freq_data['fecha'].dt.to_period('D') + 1 - freq_data['fecha'].dt.to_period('D').min()).apply(lambda x: x.n))\n",
    "      freq_data.insert(1, 'mes', (freq_data['fecha'].dt.to_period('M') + 1 - freq_data['fecha'].dt.to_period('M').min()).apply(lambda x: x.n))\n",
    "      freq_data.insert(1, 'año', (freq_data['fecha'].dt.to_period('Y') + 1 - freq_data['fecha'].dt.to_period('Y').min()).apply(lambda x: x.n))\n",
    "\n",
    "      data_min = freq_data[selected_item].min()\n",
    "      data_max = freq_data[selected_item].max()\n",
    "      range_diff = (data_max - data_min) / 20\n",
    "      range_min = range_diff if data_min < 0 else data_min - range_diff\n",
    "\n",
    "      data_metadata['dataset'] = freq_data\n",
    "      data_metadata['time'] = numpy.asarray(freq_data['fecha'], dtype='datetime64[s]')\n",
    "      data_metadata['range'] = (range_min, data_max + range_diff)\n",
    "\n",
    "      data_splitted[frequency] = Struct(**data_metadata)\n",
    "   \n",
    "   return data_splitted"
   ]
  },
  {
   "cell_type": "markdown",
   "metadata": {},
   "source": [
    "## **Prepare Data**"
   ]
  },
  {
   "cell_type": "code",
   "execution_count": null,
   "metadata": {},
   "outputs": [],
   "source": [
    "# Load and prepare Dataset\n",
    "datos = pandas.read_csv(data_path, parse_dates=['fecha'], date_format='%Y-%m-%d')\n",
    "\n",
    "# Set Independent Data\n",
    "items = list( datos.iloc[:, 1:-1].keys() )\n",
    "independent_data = ['año', 'mes', 'dia']\n",
    "\n",
    "# Filter data by time-frequencies\n",
    "data = frequency_spliter(data=datos)"
   ]
  },
  {
   "cell_type": "code",
   "execution_count": null,
   "metadata": {},
   "outputs": [],
   "source": [
    "# Prepare data example to plot\n",
    "time_frequency_example = '3D'\n",
    "show_plot_grids = True\n",
    "data_example = data[time_frequency_example]"
   ]
  },
  {
   "cell_type": "markdown",
   "metadata": {},
   "source": [
    "## **Out Atypical Data Filter**"
   ]
  },
  {
   "cell_type": "code",
   "execution_count": null,
   "metadata": {},
   "outputs": [],
   "source": [
    "# Filter data removing Out atypical (extreme) values\n",
    "\n",
    "# Stardart deviation limits\n",
    "st_dev_data = standart_deviation_filter(data=data_example.dataset, value=selected_item)\n",
    "st_dev_time = numpy.asarray(st_dev_data['fecha'], dtype='datetime64[s]')\n",
    "\n",
    "# Quantiles limits\n",
    "quant_data = quantiles_filter(data=data_example.dataset, value=selected_item)\n",
    "quant_time = numpy.asarray(quant_data['fecha'], dtype='datetime64[s]')"
   ]
  },
  {
   "cell_type": "code",
   "execution_count": null,
   "metadata": {},
   "outputs": [],
   "source": [
    "# Example data plot\n",
    "if show_plots:\n",
    "   plotter(\n",
    "      xy=data_example.dataset[['fecha' ,selected_item]], \n",
    "      title=[selected_item, f'freq = {time_frequency_example}', 'Data Origin'], \n",
    "      y_limit=data_example.range,\n",
    "      grid=show_plot_grids,\n",
    "   )"
   ]
  },
  {
   "cell_type": "code",
   "execution_count": null,
   "metadata": {},
   "outputs": [],
   "source": [
    "# Stardart Deviation plot\n",
    "if show_plots:\n",
    "   plotter(\n",
    "      xy=st_dev_data[['fecha' ,selected_item]], \n",
    "      title=[selected_item, f'freq = {time_frequency_example}', 'Filtrado de Datos Atípicos (Desviación Estandar)'], \n",
    "      y_limit=data_example.range,\n",
    "      grid=show_plot_grids,\n",
    "   )"
   ]
  },
  {
   "cell_type": "code",
   "execution_count": null,
   "metadata": {},
   "outputs": [],
   "source": [
    "# Quantiles plot\n",
    "if show_plots:\n",
    "   plotter(\n",
    "      xy=quant_data[['fecha' ,selected_item]], \n",
    "      title=[selected_item, f'freq = {time_frequency_example}', 'Filtrado de Datos Atípicos (Cuantiles)'], \n",
    "      y_limit=data_example.range,\n",
    "      grid=show_plot_grids,\n",
    "   )"
   ]
  },
  {
   "cell_type": "code",
   "execution_count": null,
   "metadata": {},
   "outputs": [],
   "source": [
    "# Limits comparison plot\n",
    "if show_plots:\n",
    "   figure, axes = pyplot.subplots(ncols=3, figsize=(12, 6))\n",
    "\n",
    "   ax = axes[0]\n",
    "   ax.boxplot(data_example.dataset[selected_item], showfliers=False)\n",
    "   ax.scatter(x=[.8] * len(data_example.dataset), y=data_example.dataset[selected_item], alpha=0.2, s=24)\n",
    "   ax.grid()\n",
    "   ax.set(\n",
    "      title='Ventas  |  Original Data',\n",
    "      ylabel=selected_item,\n",
    "      ylim=data_example.range,\n",
    "      xticks=([])\n",
    "   )\n",
    "\n",
    "   ax = axes[1]\n",
    "   ax.boxplot(st_dev_data[selected_item], showfliers=False)\n",
    "   ax.scatter(x=[.8] * len(st_dev_data), y=st_dev_data[selected_item], alpha=0.2, s=24)\n",
    "   ax.grid()\n",
    "   ax.set(\n",
    "      title='Ventas  |  Desv. Estándar',\n",
    "      ylim=data_example.range,\n",
    "      xticks=([])\n",
    "   )\n",
    "\n",
    "   ax = axes[2]\n",
    "   ax.boxplot(quant_data[selected_item], showfliers=True)\n",
    "   ax.scatter(x=[.8] * len(quant_data), y=quant_data[selected_item], alpha=0.2, s=24)\n",
    "   ax.grid()\n",
    "   ax.set(\n",
    "      title='Ventas  |  Lim. Cuantiles',\n",
    "      ylim=data_example.range,\n",
    "      xticks=([])\n",
    "   )\n"
   ]
  },
  {
   "cell_type": "markdown",
   "metadata": {},
   "source": [
    "## **Model Train and Test**"
   ]
  },
  {
   "cell_type": "code",
   "execution_count": null,
   "metadata": {},
   "outputs": [],
   "source": [
    "# Regresión Lineal Results | Data ejemplo\n",
    "data_example = data[time_frequency_example]\n",
    "\n",
    "data_example_model_results = linear_regression(data_x=data_example.dataset[independent_data], data_y=data_example.dataset[selected_item])\n",
    "\n",
    "print(f'Rango: {data_example_model_results.range}') # Rango de los valores\n",
    "# print(f'MSE: {data_example_model_results.ecm}') # Error Cuadrático Medio\n",
    "print(f'RECM: ± {data_example_model_results.recm:.0f}') # Raíz del Error Cuadrático Medio\n",
    "print(f'RECM(%): {data_example_model_results.precm:.2f} %') # Porcentaje de la Raíz del Error Cuadrático Medio\n",
    "\n",
    "print(f'R^2: {data_example_model_results.r2}') # R-Cuadrado (ajuste del modelo)\n",
    "print(f'R^2(%): {data_example_model_results.pr2:.2f}%') # Porcentaje de R-Cuadrado"
   ]
  },
  {
   "cell_type": "code",
   "execution_count": null,
   "metadata": {},
   "outputs": [],
   "source": [
    "# Results mappers\n",
    "rmse_results = {\n",
    "   'Orig. Range': [],\n",
    "   'Orig.': [], \n",
    "   'Stand. Dev. Range': [],\n",
    "   'Stand. Dev.': [], \n",
    "   'Quant. Range': [],\n",
    "   'Quant.': [],\n",
    "}\n",
    "\n",
    "prmse_results = {\n",
    "   'Orig.': [],\n",
    "   'Stand. Dev.': [],\n",
    "   'Quant.': [],\n",
    "}\n",
    "\n",
    "pr2_results = {\n",
    "   'Orig.': [],\n",
    "   'Stand. Dev.': [], \n",
    "   'Quant.': [],\n",
    "}"
   ]
  },
  {
   "cell_type": "code",
   "execution_count": null,
   "metadata": {},
   "outputs": [],
   "source": [
    "# Get lineal model results by freq and limit filter\n",
    "for freq in time_frequencies:\n",
    "\n",
    "   data_model_results = linear_regression(data_x=data[freq].dataset[independent_data], data_y=data[freq].dataset[selected_item])\n",
    "   rmse_results['Orig. Range'].append( f'{data_model_results.range}' )\n",
    "   rmse_results['Orig.'].append( f'{data_model_results.recm:.0f}' )\n",
    "   prmse_results['Orig.'].append( f'{data_model_results.precm:.1f}%' )\n",
    "   pr2_results['Orig.'].append( f'{data_model_results.pr2:.0f}%' )\n",
    "\n",
    "   st_dev_data = standart_deviation_filter(data=data[freq].dataset, value=selected_item)\n",
    "   st_dev_model_results = linear_regression(data_x=st_dev_data[independent_data], data_y=st_dev_data[selected_item])\n",
    "   rmse_results['Stand. Dev. Range'].append( f'{st_dev_model_results.range}' )\n",
    "   rmse_results['Stand. Dev.'].append( f'{st_dev_model_results.recm:.0f}' )\n",
    "   prmse_results['Stand. Dev.'].append( f'{st_dev_model_results.precm:.1f}%' )\n",
    "   pr2_results['Stand. Dev.'].append( f'{st_dev_model_results.pr2:.0f}%' )\n",
    "\n",
    "   quant_data = standart_deviation_filter(data=data[freq].dataset, value=selected_item)\n",
    "   quant_model_results = linear_regression(data_x=quant_data[independent_data], data_y=quant_data[selected_item])\n",
    "   rmse_results['Quant. Range'].append( f'{quant_model_results.range}' )\n",
    "   rmse_results['Quant.'].append( f'{quant_model_results.recm:.0f}' )\n",
    "   prmse_results['Quant.'].append( f'{quant_model_results.precm:.1f}%' )\n",
    "   pr2_results['Quant.'].append( f'{quant_model_results.pr2:.0f}%' )"
   ]
  },
  {
   "cell_type": "code",
   "execution_count": null,
   "metadata": {},
   "outputs": [],
   "source": [
    "# Show RMSE results\n",
    "General_RMSE_Results = pandas.DataFrame(rmse_results, index=time_frequencies)\n",
    "# General_RMSE_Results"
   ]
  },
  {
   "cell_type": "code",
   "execution_count": null,
   "metadata": {},
   "outputs": [],
   "source": [
    "# Show RMSE (%) results\n",
    "General_PRMSE_Results = pandas.DataFrame(prmse_results, index=time_frequencies)\n",
    "General_PRMSE_Results"
   ]
  },
  {
   "cell_type": "code",
   "execution_count": null,
   "metadata": {},
   "outputs": [],
   "source": [
    "# Show R2 results\n",
    "General_R2_Results = pandas.DataFrame(pr2_results, index=time_frequencies)\n",
    "General_R2_Results"
   ]
  },
  {
   "cell_type": "markdown",
   "metadata": {},
   "source": [
    "## **Model Predictions**"
   ]
  },
  {
   "cell_type": "code",
   "execution_count": null,
   "metadata": {},
   "outputs": [],
   "source": [
    "# ventas_predichas = modelo.predict([])\n",
    "# print(f\"Las ventas predichas para el mes {mes_siguiente} son: {ventas_predichas[0]}\")"
   ]
  }
 ],
 "metadata": {
  "kernelspec": {
   "display_name": ".project_venv",
   "language": "python",
   "name": "python3"
  },
  "language_info": {
   "codemirror_mode": {
    "name": "ipython",
    "version": 3
   },
   "file_extension": ".py",
   "mimetype": "text/x-python",
   "name": "python",
   "nbconvert_exporter": "python",
   "pygments_lexer": "ipython3",
   "version": "3.10.12"
  }
 },
 "nbformat": 4,
 "nbformat_minor": 2
}
