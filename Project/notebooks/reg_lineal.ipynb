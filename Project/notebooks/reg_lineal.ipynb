{
 "cells": [
  {
   "cell_type": "markdown",
   "metadata": {},
   "source": [
    "# **Linear Regression Model**"
   ]
  },
  {
   "cell_type": "code",
   "execution_count": 1,
   "metadata": {},
   "outputs": [],
   "source": [
    "# Set Variables\n",
    "data_path = '../assets/data_filtered.csv'\n",
    "time_frequencies = ['D', '3D', 'W', '3W', 'ME', '3ME']\n",
    "\n",
    "selected_item = 'TOTAL'\n",
    "selected_frequency = 'ME'\n",
    "\n",
    "model_random_seed = 42\n",
    "show_plots = True"
   ]
  },
  {
   "cell_type": "markdown",
   "metadata": {},
   "source": [
    "## **Fisrt Steps**\n",
    "\n",
    "Set init imports and variables"
   ]
  },
  {
   "cell_type": "code",
   "execution_count": 2,
   "metadata": {},
   "outputs": [],
   "source": [
    "# Set imports\n",
    "import pandas\n",
    "import numpy\n",
    "import seaborn\n",
    "from matplotlib import pyplot\n",
    "from sklearn.linear_model import LinearRegression\n",
    "from sklearn.model_selection import train_test_split\n",
    "from sklearn.metrics import mean_squared_error\n",
    "from sklearn.metrics import root_mean_squared_error\n",
    "from sklearn.metrics import r2_score"
   ]
  },
  {
   "cell_type": "code",
   "execution_count": 3,
   "metadata": {},
   "outputs": [],
   "source": [
    "class Struct:\n",
    "    def __init__(self, **kwargs):\n",
    "        for key, value in kwargs.items():\n",
    "            if isinstance(value, dict):\n",
    "                self.__dict__[key] = Struct(**value)\n",
    "            else:\n",
    "                self.__dict__[key] = value"
   ]
  },
  {
   "cell_type": "code",
   "execution_count": 4,
   "metadata": {},
   "outputs": [],
   "source": [
    "def plotter(xy, title, y_limit, grid):\n",
    "   \n",
    "   dataframe = xy.copy()\n",
    "   dataframe['fecha_ordinal'] = dataframe['fecha'].map(pandas.Timestamp.toordinal)\n",
    "   time = numpy.asarray(dataframe['fecha'], dtype='datetime64[s]')\n",
    "\n",
    "   coef = numpy.polyfit(dataframe['fecha_ordinal'], dataframe[selected_item], 1)\n",
    "   poly1d_fn = numpy.poly1d(coef)  # Obtener la función polinómica de grado 1\n",
    "\n",
    "   figure, axes = pyplot.subplots(nrows=1, ncols=1, figsize=(10, 3))\n",
    "\n",
    "   ax = axes\n",
    "   ax.scatter(time, dataframe[selected_item], s=12, label=selected_item)\n",
    "   ax.plot(time, poly1d_fn(dataframe['fecha_ordinal']), color='purple', label='Tendencia lineal')\n",
    "   ax.tick_params(axis='x', labelrotation=0)\n",
    "   ax.margins(x=0.03, y=0.04)\n",
    "   ax.set(\n",
    "      title='  |  '.join(title),\n",
    "      xlabel='Fecha', \n",
    "      ylabel='No. de Ventas',\n",
    "      ylim=y_limit\n",
    "   )\n",
    "   ax.legend()\n",
    "   if grid: \n",
    "      ax.grid()\n",
    "\n",
    "   figure.tight_layout()"
   ]
  },
  {
   "cell_type": "code",
   "execution_count": 5,
   "metadata": {},
   "outputs": [],
   "source": [
    "def standart_deviation_filter(data):\n",
    "   media = data[selected_item].mean()\n",
    "   desv_std = data[selected_item].std()\n",
    "   rango_valido = [media - 3 * desv_std, media + 3 * desv_std]\n",
    "\n",
    "   # Filtrar datos dentro del rango válido\n",
    "   return data[(data[selected_item] >= rango_valido[0]) & (data[selected_item] <= rango_valido[1])]"
   ]
  },
  {
   "cell_type": "code",
   "execution_count": 6,
   "metadata": {},
   "outputs": [],
   "source": [
    "def quantiles_filter(data):\n",
    "   # Límites basados en cuartiles\n",
    "   Q1 = data[selected_item].quantile(0.25)\n",
    "   Q3 = data[selected_item].quantile(0.75)\n",
    "   IQR = Q3 - Q1\n",
    "   rango_valido = [Q1 - 1.5 * IQR, Q3 + 1.5 * IQR]\n",
    "   rango_valido_min = rango_valido[0]\n",
    "   rango_valido_max = rango_valido[1]\n",
    "\n",
    "   # Filtrar datos dentro del rango válido\n",
    "   return data[(data[selected_item] >= rango_valido_min) & (data[selected_item] <= rango_valido_max)]"
   ]
  },
  {
   "cell_type": "code",
   "execution_count": 7,
   "metadata": {},
   "outputs": [],
   "source": [
    "def linear_regression(data_x, data_y):\n",
    "   model = LinearRegression()\n",
    "\n",
    "   # Dividir los datos en conjuntos de entrenamiento y prueba\n",
    "   X_train, X_test, y_train, y_test = train_test_split(data_x, data_y, train_size=0.8, test_size=0.2, random_state=model_random_seed)\n",
    "\n",
    "   # Crear y entrenar el modelo\n",
    "   model.fit(X_train, y_train)\n",
    "   \n",
    "   # Realizar predicciones en el conjunto de prueba\n",
    "   y_pred = model.predict(X_test)\n",
    "\n",
    "   # Calcular el MSE y el R^2\n",
    "   data_min = data_y.min()\n",
    "   data_max = data_y.max()\n",
    "\n",
    "   ecm = mean_squared_error(y_test, y_pred)\n",
    "   recm = root_mean_squared_error(y_test, y_pred)\n",
    "   precm = recm / (data_max - data_min) * 100\n",
    "\n",
    "   r2 = r2_score(y_test, y_pred)\n",
    "   pr2 = r2 * 100\n",
    "\n",
    "   data_trainig = {\n",
    "      'x_test': X_test,\n",
    "      'x_train': X_train,\n",
    "      'y_test': y_test,\n",
    "      'y_train': y_train,\n",
    "      'y_pred': y_pred\n",
    "   }\n",
    "   results = {\n",
    "      'range': (data_min, data_max),\n",
    "\n",
    "      'ecm': ecm,\n",
    "      'recm': recm,\n",
    "      'precm': precm,\n",
    "\n",
    "      'r2': r2, \n",
    "      'pr2': pr2\n",
    "   }\n",
    "\n",
    "   return Struct(**{\n",
    "      'model': model,\n",
    "      'training': data_trainig,\n",
    "      'results': results\n",
    "   })"
   ]
  },
  {
   "cell_type": "code",
   "execution_count": 8,
   "metadata": {},
   "outputs": [],
   "source": [
    "def frequency_grouper(data):\n",
    "   data_splitted = {}\n",
    "   \n",
    "   for frequency in time_frequencies:\n",
    "      data_metadata = {}\n",
    "\n",
    "      frequency_data = data.groupby(pandas.Grouper(key='fecha', freq=frequency, sort=True)).sum().reset_index() if frequency != 'D' else data.copy()\n",
    "\n",
    "      # Ennumerate data\n",
    "      date_reference = frequency_data['fecha'].min()\n",
    "      frequency_data['dia'] = (frequency_data['fecha'] - date_reference).dt.days + 1\n",
    "      # freq_data['dia'] = freq_data['fecha'] = range(1, len(freq_data) + 1)\n",
    "\n",
    "      # freq_data.insert(1, 'dia', (freq_data['fecha'].dt.to_period('D') + 1 - freq_data['fecha'].dt.to_period('D').min()).apply(lambda x: x.n))\n",
    "      # freq_data.insert(1, 'mes', (freq_data['fecha'].dt.to_period('M') + 1 - freq_data['fecha'].dt.to_period('M').min()).apply(lambda x: x.n))\n",
    "      # freq_data.insert(1, 'año', (freq_data['fecha'].dt.to_period('Y') + 1 - freq_data['fecha'].dt.to_period('Y').min()).apply(lambda x: x.n))\n",
    "\n",
    "      data_min = frequency_data[selected_item].min()\n",
    "      data_max = frequency_data[selected_item].max()\n",
    "      range_diff = (data_max - data_min) / 20\n",
    "      range_min = -range_diff if data_min <= 0 else 0\n",
    "\n",
    "      data_metadata['dataset'] = frequency_data\n",
    "      data_metadata['time'] = numpy.asarray(frequency_data['fecha'], dtype='datetime64[s]')\n",
    "      data_metadata['range'] = (range_min, data_max + range_diff)\n",
    "\n",
    "      data_splitted[frequency] = Struct(**data_metadata)\n",
    "   \n",
    "   return data_splitted"
   ]
  },
  {
   "cell_type": "markdown",
   "metadata": {},
   "source": [
    "## **Prepare Data**\n",
    "\n",
    "Groupby time frequencies and Target prediction variable (selected item)"
   ]
  },
  {
   "cell_type": "code",
   "execution_count": 9,
   "metadata": {},
   "outputs": [
    {
     "data": {
      "text/html": [
       "<div>\n",
       "<style scoped>\n",
       "    .dataframe tbody tr th:only-of-type {\n",
       "        vertical-align: middle;\n",
       "    }\n",
       "\n",
       "    .dataframe tbody tr th {\n",
       "        vertical-align: top;\n",
       "    }\n",
       "\n",
       "    .dataframe thead th {\n",
       "        text-align: right;\n",
       "    }\n",
       "</style>\n",
       "<table border=\"1\" class=\"dataframe\">\n",
       "  <thead>\n",
       "    <tr style=\"text-align: right;\">\n",
       "      <th></th>\n",
       "      <th>fecha</th>\n",
       "      <th>TOTAL</th>\n",
       "    </tr>\n",
       "  </thead>\n",
       "  <tbody>\n",
       "    <tr>\n",
       "      <th>0</th>\n",
       "      <td>2014-10-01</td>\n",
       "      <td>2</td>\n",
       "    </tr>\n",
       "    <tr>\n",
       "      <th>1</th>\n",
       "      <td>2014-10-02</td>\n",
       "      <td>4</td>\n",
       "    </tr>\n",
       "    <tr>\n",
       "      <th>2</th>\n",
       "      <td>2014-10-03</td>\n",
       "      <td>5</td>\n",
       "    </tr>\n",
       "    <tr>\n",
       "      <th>3</th>\n",
       "      <td>2014-10-04</td>\n",
       "      <td>6</td>\n",
       "    </tr>\n",
       "    <tr>\n",
       "      <th>4</th>\n",
       "      <td>2014-10-06</td>\n",
       "      <td>7</td>\n",
       "    </tr>\n",
       "  </tbody>\n",
       "</table>\n",
       "</div>"
      ],
      "text/plain": [
       "       fecha  TOTAL\n",
       "0 2014-10-01      2\n",
       "1 2014-10-02      4\n",
       "2 2014-10-03      5\n",
       "3 2014-10-04      6\n",
       "4 2014-10-06      7"
      ]
     },
     "execution_count": 9,
     "metadata": {},
     "output_type": "execute_result"
    }
   ],
   "source": [
    "# Load and prepare Dataset\n",
    "datos = pandas.read_csv(data_path, parse_dates=['fecha'], date_format='%Y-%m-%d')\n",
    "datos = datos[['fecha', selected_item]]\n",
    "datos.head()"
   ]
  },
  {
   "cell_type": "code",
   "execution_count": 10,
   "metadata": {},
   "outputs": [],
   "source": [
    "# Filter data by time-frequencies\n",
    "data = frequency_grouper(data=datos)\n",
    "independent_data = ['dia']"
   ]
  },
  {
   "cell_type": "code",
   "execution_count": 11,
   "metadata": {},
   "outputs": [],
   "source": [
    "# Prepare data example to plot\n",
    "data_example = data[selected_frequency]\n",
    "show_plot_grids = True"
   ]
  },
  {
   "cell_type": "code",
   "execution_count": 12,
   "metadata": {},
   "outputs": [
    {
     "data": {
      "image/png": "[encoded data removed]",
      "text/plain": [
       "<Figure size 1000x300 with 1 Axes>"
      ]
     },
     "metadata": {},
     "output_type": "display_data"
    }
   ],
   "source": [
    "# Example data plot\n",
    "if show_plots:\n",
    "   plotter(\n",
    "      xy=data_example.dataset[['fecha' ,selected_item]], \n",
    "      title=[selected_item, f'freq = {selected_frequency}', 'Data Origin'], \n",
    "      y_limit=data_example.range,\n",
    "      grid=show_plot_grids,\n",
    "   )"
   ]
  },
  {
   "cell_type": "markdown",
   "metadata": {},
   "source": [
    "## **Out Atypical Data Filter**\n",
    "\n",
    "Remove extreme values from data"
   ]
  },
  {
   "cell_type": "code",
   "execution_count": 13,
   "metadata": {},
   "outputs": [],
   "source": [
    "# Filter data removing Out atypical (extreme) values\n",
    "\n",
    "# Stardart deviation limits\n",
    "st_dev_data = standart_deviation_filter(data=data_example.dataset)\n",
    "st_dev_time = numpy.asarray(st_dev_data['fecha'], dtype='datetime64[s]')\n",
    "\n",
    "# Quantiles limits\n",
    "quant_data = quantiles_filter(data=data_example.dataset)\n",
    "quant_time = numpy.asarray(quant_data['fecha'], dtype='datetime64[s]')"
   ]
  },
  {
   "cell_type": "code",
   "execution_count": 14,
   "metadata": {},
   "outputs": [
    {
     "data": {
      "image/png": "[encoded data removed]",
      "text/plain": [
       "<Figure size 1000x300 with 1 Axes>"
      ]
     },
     "metadata": {},
     "output_type": "display_data"
    }
   ],
   "source": [
    "# Stardart Deviation plot\n",
    "if show_plots:\n",
    "   plotter(\n",
    "      xy=st_dev_data[['fecha' ,selected_item]], \n",
    "      title=[selected_item, f'freq = {selected_frequency}', 'Filtrado de Datos Atípicos (Desviación Estandar)'], \n",
    "      y_limit=data_example.range,\n",
    "      grid=show_plot_grids,\n",
    "   )"
   ]
  },
  {
   "cell_type": "code",
   "execution_count": 15,
   "metadata": {},
   "outputs": [
    {
     "data": {
      "image/png": "[encoded data removed]",
      "text/plain": [
       "<Figure size 1000x300 with 1 Axes>"
      ]
     },
     "metadata": {},
     "output_type": "display_data"
    }
   ],
   "source": [
    "# Quantiles plot\n",
    "if show_plots:\n",
    "   plotter(\n",
    "      xy=quant_data[['fecha' ,selected_item]], \n",
    "      title=[selected_item, f'freq = {selected_frequency}', 'Filtrado de Datos Atípicos (Cuantiles)'], \n",
    "      y_limit=data_example.range,\n",
    "      grid=show_plot_grids,\n",
    "   )"
   ]
  },
  {
   "cell_type": "code",
   "execution_count": 16,
   "metadata": {},
   "outputs": [
    {
     "data": {
      "image/png": "[encoded data removed]",
      "text/plain": [
       "<Figure size 1000x450 with 3 Axes>"
      ]
     },
     "metadata": {},
     "output_type": "display_data"
    }
   ],
   "source": [
    "# Limits comparison plot\n",
    "if show_plots:\n",
    "   figure, axes = pyplot.subplots(ncols=3, figsize=(10, 4.5))\n",
    "\n",
    "   ax = axes[0]\n",
    "   ax.boxplot(data_example.dataset[selected_item], showfliers=False)\n",
    "   ax.scatter(x=[.8] * len(data_example.dataset), y=data_example.dataset[selected_item], alpha=0.3, s=24)\n",
    "   ax.grid()\n",
    "   ax.set(\n",
    "      title='Ventas  |  Original Data',\n",
    "      ylabel=selected_item,\n",
    "      ylim=data_example.range,\n",
    "      xticks=([])\n",
    "   )\n",
    "\n",
    "   ax = axes[1]\n",
    "   ax.boxplot(st_dev_data[selected_item], showfliers=False)\n",
    "   ax.scatter(x=[.8] * len(st_dev_data), y=st_dev_data[selected_item], alpha=0.3, s=24)\n",
    "   ax.grid()\n",
    "   ax.set(\n",
    "      title='Ventas  |  Desv. Estándar',\n",
    "      ylim=data_example.range,\n",
    "      xticks=([])\n",
    "   )\n",
    "\n",
    "   ax = axes[2]\n",
    "   ax.boxplot(quant_data[selected_item], showfliers=True)\n",
    "   ax.scatter(x=[.8] * len(quant_data), y=quant_data[selected_item], alpha=0.3, s=24)\n",
    "   ax.grid()\n",
    "   ax.set(\n",
    "      title='Ventas  |  Lim. Cuantiles',\n",
    "      ylim=data_example.range,\n",
    "      xticks=([])\n",
    "   )\n"
   ]
  },
  {
   "cell_type": "code",
   "execution_count": 17,
   "metadata": {},
   "outputs": [
    {
     "data": {
      "image/png": "[encoded data removed]",
      "text/plain": [
       "<Figure size 980x350 with 1 Axes>"
      ]
     },
     "metadata": {},
     "output_type": "display_data"
    }
   ],
   "source": [
    "# Data example histogram\n",
    "if show_plots:\n",
    "   histogram_plot = pandas.DataFrame(data_example.dataset[selected_item])\n",
    "\n",
    "   fig, ax = pyplot.subplots(figsize=(9.8, 3.5))\n",
    "\n",
    "   seaborn.histplot(histogram_plot, \n",
    "      x=selected_item, \n",
    "      bins=20, \n",
    "      kde=True, \n",
    "      kde_kws = {'bw_adjust': .7}\n",
    "   ).lines[0].set_color('blue')"
   ]
  },
  {
   "cell_type": "markdown",
   "metadata": {},
   "source": [
    "## **Model Train and Test**\n",
    "\n",
    "Train-Test Split data and model training"
   ]
  },
  {
   "cell_type": "code",
   "execution_count": 18,
   "metadata": {},
   "outputs": [
    {
     "data": {
      "text/html": [
       "<div>\n",
       "<style scoped>\n",
       "    .dataframe tbody tr th:only-of-type {\n",
       "        vertical-align: middle;\n",
       "    }\n",
       "\n",
       "    .dataframe tbody tr th {\n",
       "        vertical-align: top;\n",
       "    }\n",
       "\n",
       "    .dataframe thead th {\n",
       "        text-align: right;\n",
       "    }\n",
       "</style>\n",
       "<table border=\"1\" class=\"dataframe\">\n",
       "  <thead>\n",
       "    <tr style=\"text-align: right;\">\n",
       "      <th></th>\n",
       "      <th>dia</th>\n",
       "      <th>TOTAL</th>\n",
       "    </tr>\n",
       "  </thead>\n",
       "  <tbody>\n",
       "    <tr>\n",
       "      <th>0</th>\n",
       "      <td>1</td>\n",
       "      <td>440</td>\n",
       "    </tr>\n",
       "    <tr>\n",
       "      <th>1</th>\n",
       "      <td>31</td>\n",
       "      <td>264</td>\n",
       "    </tr>\n",
       "    <tr>\n",
       "      <th>2</th>\n",
       "      <td>62</td>\n",
       "      <td>428</td>\n",
       "    </tr>\n",
       "    <tr>\n",
       "      <th>3</th>\n",
       "      <td>93</td>\n",
       "      <td>356</td>\n",
       "    </tr>\n",
       "    <tr>\n",
       "      <th>4</th>\n",
       "      <td>121</td>\n",
       "      <td>401</td>\n",
       "    </tr>\n",
       "  </tbody>\n",
       "</table>\n",
       "</div>"
      ],
      "text/plain": [
       "   dia  TOTAL\n",
       "0    1    440\n",
       "1   31    264\n",
       "2   62    428\n",
       "3   93    356\n",
       "4  121    401"
      ]
     },
     "execution_count": 18,
     "metadata": {},
     "output_type": "execute_result"
    }
   ],
   "source": [
    "# Example data - Run Model\n",
    "data_example = data[selected_frequency].dataset\n",
    "data_example_model = linear_regression(\n",
    "   data_x=data_example[independent_data], \n",
    "   data_y=data_example[selected_item]\n",
    ")\n",
    "data_example[['dia', selected_item]].head()"
   ]
  },
  {
   "cell_type": "code",
   "execution_count": 19,
   "metadata": {},
   "outputs": [
    {
     "data": {
      "text/html": [
       "<div>\n",
       "<style scoped>\n",
       "    .dataframe tbody tr th:only-of-type {\n",
       "        vertical-align: middle;\n",
       "    }\n",
       "\n",
       "    .dataframe tbody tr th {\n",
       "        vertical-align: top;\n",
       "    }\n",
       "\n",
       "    .dataframe thead th {\n",
       "        text-align: right;\n",
       "    }\n",
       "</style>\n",
       "<table border=\"1\" class=\"dataframe\">\n",
       "  <thead>\n",
       "    <tr style=\"text-align: right;\">\n",
       "      <th></th>\n",
       "      <th>dia</th>\n",
       "      <th>TOTAL</th>\n",
       "      <th>pred</th>\n",
       "    </tr>\n",
       "  </thead>\n",
       "  <tbody>\n",
       "    <tr>\n",
       "      <th>83</th>\n",
       "      <td>2527</td>\n",
       "      <td>534</td>\n",
       "      <td>346.0</td>\n",
       "    </tr>\n",
       "    <tr>\n",
       "      <th>4</th>\n",
       "      <td>121</td>\n",
       "      <td>401</td>\n",
       "      <td>321.0</td>\n",
       "    </tr>\n",
       "    <tr>\n",
       "      <th>42</th>\n",
       "      <td>1278</td>\n",
       "      <td>220</td>\n",
       "      <td>333.0</td>\n",
       "    </tr>\n",
       "    <tr>\n",
       "      <th>40</th>\n",
       "      <td>1217</td>\n",
       "      <td>302</td>\n",
       "      <td>332.0</td>\n",
       "    </tr>\n",
       "    <tr>\n",
       "      <th>10</th>\n",
       "      <td>305</td>\n",
       "      <td>390</td>\n",
       "      <td>323.0</td>\n",
       "    </tr>\n",
       "    <tr>\n",
       "      <th>47</th>\n",
       "      <td>1431</td>\n",
       "      <td>369</td>\n",
       "      <td>334.0</td>\n",
       "    </tr>\n",
       "    <tr>\n",
       "      <th>110</th>\n",
       "      <td>3349</td>\n",
       "      <td>267</td>\n",
       "      <td>354.0</td>\n",
       "    </tr>\n",
       "    <tr>\n",
       "      <th>36</th>\n",
       "      <td>1097</td>\n",
       "      <td>304</td>\n",
       "      <td>331.0</td>\n",
       "    </tr>\n",
       "    <tr>\n",
       "      <th>70</th>\n",
       "      <td>2132</td>\n",
       "      <td>483</td>\n",
       "      <td>342.0</td>\n",
       "    </tr>\n",
       "    <tr>\n",
       "      <th>11</th>\n",
       "      <td>335</td>\n",
       "      <td>385</td>\n",
       "      <td>323.0</td>\n",
       "    </tr>\n",
       "  </tbody>\n",
       "</table>\n",
       "</div>"
      ],
      "text/plain": [
       "      dia  TOTAL   pred\n",
       "83   2527    534  346.0\n",
       "4     121    401  321.0\n",
       "42   1278    220  333.0\n",
       "40   1217    302  332.0\n",
       "10    305    390  323.0\n",
       "47   1431    369  334.0\n",
       "110  3349    267  354.0\n",
       "36   1097    304  331.0\n",
       "70   2132    483  342.0\n",
       "11    335    385  323.0"
      ]
     },
     "execution_count": 19,
     "metadata": {},
     "output_type": "execute_result"
    }
   ],
   "source": [
    "# Example data - Results\n",
    "data_example_training = data_example_model.training\n",
    "data_example_predict = data_example_training.y_pred\n",
    "with numpy.nditer(data_example_predict, op_flags=['readwrite']) as it:\n",
    "   for x in it:\n",
    "      x[...] = f'{x:.0f}'\n",
    "data_example_predict = pandas.DataFrame({ 'pred': data_example_predict }, index=list(data_example_training.y_test.index))\n",
    "\n",
    "df_merged = pandas.concat([\n",
    "   data_example_training.x_test, \n",
    "   data_example_training.y_test,\n",
    "   data_example_predict\n",
    "], axis=1, join='inner')\n",
    "df_merged.rename(columns={selected_item: 'real'})\n",
    "df_merged.head(10)\n"
   ]
  },
  {
   "cell_type": "code",
   "execution_count": 20,
   "metadata": {},
   "outputs": [
    {
     "name": "stdout",
     "output_type": "stream",
     "text": [
      "Item: TOTAL\n",
      "Freq: ME\n",
      "\n",
      "Range: (0, 534)\n",
      "RECM: ± 87\n",
      "RECM(%): 16.37 %\n",
      "R^2(%): -3.92 %\n"
     ]
    }
   ],
   "source": [
    "# Example data - Model Results\n",
    "data_example_results = data_example_model.results\n",
    "\n",
    "print(f'Item: {selected_item}')\n",
    "print(f'Freq: {selected_frequency}\\n')\n",
    "print(f'Range: {data_example_results.range}') # Selected Item Value Ranges\n",
    "\n",
    "# print(f'MSE: {data_example_results.ecm}') # Error Cuadrático Medio\n",
    "print(f'RECM: ± {data_example_results.recm:.0f}') # Raíz del Error Cuadrático Medio\n",
    "print(f'RECM(%): {data_example_results.precm:.2f} %') # Porcentaje de la Raíz del Error Cuadrático Medio\n",
    "\n",
    "# print(f'R^2: {data_example_results.r2}') # R-Cuadrado (ajuste del modelo)\n",
    "print(f'R^2(%): {data_example_results.pr2:.2f} %') # Porcentaje de R-Cuadrado"
   ]
  },
  {
   "cell_type": "markdown",
   "metadata": {},
   "source": [
    "## **Run Model**\n",
    "\n",
    "Run multi-time-frequency model and display results"
   ]
  },
  {
   "cell_type": "code",
   "execution_count": 21,
   "metadata": {},
   "outputs": [],
   "source": [
    "# Results mappers\n",
    "rmse_results = {\n",
    "   'Orig. Range': [],\n",
    "   'Orig.': [], \n",
    "   'Stand. Dev. Range': [],\n",
    "   'Stand. Dev.': [], \n",
    "   'Quant. Range': [],\n",
    "   'Quant.': [],\n",
    "}\n",
    "\n",
    "prmse_results = {\n",
    "   'Orig.': [],\n",
    "   'Stand. Dev.': [],\n",
    "   'Quant.': [],\n",
    "}\n",
    "\n",
    "pr2_results = {\n",
    "   'Orig.': [],\n",
    "   'Stand. Dev.': [], \n",
    "   'Quant.': [],\n",
    "}"
   ]
  },
  {
   "cell_type": "code",
   "execution_count": 22,
   "metadata": {},
   "outputs": [],
   "source": [
    "# Run model by freq and limit filter\n",
    "for freq in time_frequencies:\n",
    "\n",
    "   # Original data\n",
    "   data_model = linear_regression(data_x=data[freq].dataset[independent_data], data_y=data[freq].dataset[selected_item])\n",
    "   data_model_results = data_model.results\n",
    "\n",
    "   rmse_results['Orig. Range'].append( f'{data_model_results.range}' )\n",
    "   rmse_results['Orig.'].append( f'{data_model_results.recm:.0f}' )\n",
    "   prmse_results['Orig.'].append( f'{data_model_results.precm:.1f}%' )\n",
    "   pr2_results['Orig.'].append( f'{data_model_results.pr2:.0f}%' )\n",
    "\n",
    "   # Standart deviation data\n",
    "   st_dev_data = standart_deviation_filter(data=data[freq].dataset)\n",
    "   st_dev_model = linear_regression(data_x=st_dev_data[independent_data], data_y=st_dev_data[selected_item])\n",
    "   st_dev_model_results = st_dev_model.results\n",
    "\n",
    "   rmse_results['Stand. Dev. Range'].append( f'{st_dev_model_results.range}' )\n",
    "   rmse_results['Stand. Dev.'].append( f'{st_dev_model_results.recm:.0f}' )\n",
    "   prmse_results['Stand. Dev.'].append( f'{st_dev_model_results.precm:.1f}%' )\n",
    "   pr2_results['Stand. Dev.'].append( f'{st_dev_model_results.pr2:.0f}%' )\n",
    "\n",
    "   # Quantiles data\n",
    "   quant_data = standart_deviation_filter(data=data[freq].dataset)\n",
    "   quant_model = linear_regression(data_x=quant_data[independent_data], data_y=quant_data[selected_item])\n",
    "   quant_model_results = quant_model.results\n",
    "   rmse_results['Quant. Range'].append( f'{quant_model_results.range}' )\n",
    "   rmse_results['Quant.'].append( f'{quant_model_results.recm:.0f}' )\n",
    "   prmse_results['Quant.'].append( f'{quant_model_results.precm:.1f}%' )\n",
    "   pr2_results['Quant.'].append( f'{quant_model_results.pr2:.0f}%' )"
   ]
  },
  {
   "cell_type": "code",
   "execution_count": 23,
   "metadata": {},
   "outputs": [
    {
     "data": {
      "text/html": [
       "<div>\n",
       "<style scoped>\n",
       "    .dataframe tbody tr th:only-of-type {\n",
       "        vertical-align: middle;\n",
       "    }\n",
       "\n",
       "    .dataframe tbody tr th {\n",
       "        vertical-align: top;\n",
       "    }\n",
       "\n",
       "    .dataframe thead th {\n",
       "        text-align: right;\n",
       "    }\n",
       "</style>\n",
       "<table border=\"1\" class=\"dataframe\">\n",
       "  <thead>\n",
       "    <tr style=\"text-align: right;\">\n",
       "      <th></th>\n",
       "      <th>Orig. Range</th>\n",
       "      <th>Orig.</th>\n",
       "      <th>Stand. Dev. Range</th>\n",
       "      <th>Stand. Dev.</th>\n",
       "      <th>Quant. Range</th>\n",
       "      <th>Quant.</th>\n",
       "    </tr>\n",
       "  </thead>\n",
       "  <tbody>\n",
       "    <tr>\n",
       "      <th>D</th>\n",
       "      <td>(-1, 124)</td>\n",
       "      <td>8</td>\n",
       "      <td>(-1, 38)</td>\n",
       "      <td>7</td>\n",
       "      <td>(-1, 38)</td>\n",
       "      <td>7</td>\n",
       "    </tr>\n",
       "    <tr>\n",
       "      <th>3D</th>\n",
       "      <td>(0, 124)</td>\n",
       "      <td>17</td>\n",
       "      <td>(0, 81)</td>\n",
       "      <td>16</td>\n",
       "      <td>(0, 81)</td>\n",
       "      <td>16</td>\n",
       "    </tr>\n",
       "    <tr>\n",
       "      <th>W</th>\n",
       "      <td>(0, 177)</td>\n",
       "      <td>30</td>\n",
       "      <td>(0, 158)</td>\n",
       "      <td>29</td>\n",
       "      <td>(0, 158)</td>\n",
       "      <td>29</td>\n",
       "    </tr>\n",
       "    <tr>\n",
       "      <th>3W</th>\n",
       "      <td>(0, 390)</td>\n",
       "      <td>50</td>\n",
       "      <td>(98, 390)</td>\n",
       "      <td>54</td>\n",
       "      <td>(98, 390)</td>\n",
       "      <td>54</td>\n",
       "    </tr>\n",
       "    <tr>\n",
       "      <th>ME</th>\n",
       "      <td>(0, 534)</td>\n",
       "      <td>87</td>\n",
       "      <td>(147, 534)</td>\n",
       "      <td>84</td>\n",
       "      <td>(147, 534)</td>\n",
       "      <td>84</td>\n",
       "    </tr>\n",
       "    <tr>\n",
       "      <th>3ME</th>\n",
       "      <td>(264, 1473)</td>\n",
       "      <td>112</td>\n",
       "      <td>(440, 1473)</td>\n",
       "      <td>151</td>\n",
       "      <td>(440, 1473)</td>\n",
       "      <td>151</td>\n",
       "    </tr>\n",
       "  </tbody>\n",
       "</table>\n",
       "</div>"
      ],
      "text/plain": [
       "     Orig. Range Orig. Stand. Dev. Range Stand. Dev. Quant. Range Quant.\n",
       "D      (-1, 124)     8          (-1, 38)           7     (-1, 38)      7\n",
       "3D      (0, 124)    17           (0, 81)          16      (0, 81)     16\n",
       "W       (0, 177)    30          (0, 158)          29     (0, 158)     29\n",
       "3W      (0, 390)    50         (98, 390)          54    (98, 390)     54\n",
       "ME      (0, 534)    87        (147, 534)          84   (147, 534)     84\n",
       "3ME  (264, 1473)   112       (440, 1473)         151  (440, 1473)    151"
      ]
     },
     "execution_count": 23,
     "metadata": {},
     "output_type": "execute_result"
    }
   ],
   "source": [
    "# Show RMSE results\n",
    "General_RMSE_Results = pandas.DataFrame(rmse_results, index=time_frequencies)\n",
    "General_RMSE_Results"
   ]
  },
  {
   "cell_type": "code",
   "execution_count": 24,
   "metadata": {},
   "outputs": [
    {
     "data": {
      "text/html": [
       "<div>\n",
       "<style scoped>\n",
       "    .dataframe tbody tr th:only-of-type {\n",
       "        vertical-align: middle;\n",
       "    }\n",
       "\n",
       "    .dataframe tbody tr th {\n",
       "        vertical-align: top;\n",
       "    }\n",
       "\n",
       "    .dataframe thead th {\n",
       "        text-align: right;\n",
       "    }\n",
       "</style>\n",
       "<table border=\"1\" class=\"dataframe\">\n",
       "  <thead>\n",
       "    <tr style=\"text-align: right;\">\n",
       "      <th></th>\n",
       "      <th>Orig.</th>\n",
       "      <th>Stand. Dev.</th>\n",
       "      <th>Quant.</th>\n",
       "    </tr>\n",
       "  </thead>\n",
       "  <tbody>\n",
       "    <tr>\n",
       "      <th>D</th>\n",
       "      <td>6.4%</td>\n",
       "      <td>17.4%</td>\n",
       "      <td>17.4%</td>\n",
       "    </tr>\n",
       "    <tr>\n",
       "      <th>3D</th>\n",
       "      <td>13.7%</td>\n",
       "      <td>19.6%</td>\n",
       "      <td>19.6%</td>\n",
       "    </tr>\n",
       "    <tr>\n",
       "      <th>W</th>\n",
       "      <td>16.9%</td>\n",
       "      <td>18.1%</td>\n",
       "      <td>18.1%</td>\n",
       "    </tr>\n",
       "    <tr>\n",
       "      <th>3W</th>\n",
       "      <td>12.7%</td>\n",
       "      <td>18.5%</td>\n",
       "      <td>18.5%</td>\n",
       "    </tr>\n",
       "    <tr>\n",
       "      <th>ME</th>\n",
       "      <td>16.4%</td>\n",
       "      <td>21.8%</td>\n",
       "      <td>21.8%</td>\n",
       "    </tr>\n",
       "    <tr>\n",
       "      <th>3ME</th>\n",
       "      <td>9.2%</td>\n",
       "      <td>14.6%</td>\n",
       "      <td>14.6%</td>\n",
       "    </tr>\n",
       "  </tbody>\n",
       "</table>\n",
       "</div>"
      ],
      "text/plain": [
       "     Orig. Stand. Dev. Quant.\n",
       "D     6.4%       17.4%  17.4%\n",
       "3D   13.7%       19.6%  19.6%\n",
       "W    16.9%       18.1%  18.1%\n",
       "3W   12.7%       18.5%  18.5%\n",
       "ME   16.4%       21.8%  21.8%\n",
       "3ME   9.2%       14.6%  14.6%"
      ]
     },
     "execution_count": 24,
     "metadata": {},
     "output_type": "execute_result"
    }
   ],
   "source": [
    "# Show RMSE (%) results\n",
    "General_PRMSE_Results = pandas.DataFrame(prmse_results, index=time_frequencies)\n",
    "General_PRMSE_Results"
   ]
  },
  {
   "cell_type": "code",
   "execution_count": 25,
   "metadata": {},
   "outputs": [
    {
     "data": {
      "text/html": [
       "<div>\n",
       "<style scoped>\n",
       "    .dataframe tbody tr th:only-of-type {\n",
       "        vertical-align: middle;\n",
       "    }\n",
       "\n",
       "    .dataframe tbody tr th {\n",
       "        vertical-align: top;\n",
       "    }\n",
       "\n",
       "    .dataframe thead th {\n",
       "        text-align: right;\n",
       "    }\n",
       "</style>\n",
       "<table border=\"1\" class=\"dataframe\">\n",
       "  <thead>\n",
       "    <tr style=\"text-align: right;\">\n",
       "      <th></th>\n",
       "      <th>Orig.</th>\n",
       "      <th>Stand. Dev.</th>\n",
       "      <th>Quant.</th>\n",
       "    </tr>\n",
       "  </thead>\n",
       "  <tbody>\n",
       "    <tr>\n",
       "      <th>D</th>\n",
       "      <td>0%</td>\n",
       "      <td>-0%</td>\n",
       "      <td>-0%</td>\n",
       "    </tr>\n",
       "    <tr>\n",
       "      <th>3D</th>\n",
       "      <td>-0%</td>\n",
       "      <td>-2%</td>\n",
       "      <td>-2%</td>\n",
       "    </tr>\n",
       "    <tr>\n",
       "      <th>W</th>\n",
       "      <td>-1%</td>\n",
       "      <td>-1%</td>\n",
       "      <td>-1%</td>\n",
       "    </tr>\n",
       "    <tr>\n",
       "      <th>3W</th>\n",
       "      <td>4%</td>\n",
       "      <td>-6%</td>\n",
       "      <td>-6%</td>\n",
       "    </tr>\n",
       "    <tr>\n",
       "      <th>ME</th>\n",
       "      <td>-4%</td>\n",
       "      <td>-10%</td>\n",
       "      <td>-10%</td>\n",
       "    </tr>\n",
       "    <tr>\n",
       "      <th>3ME</th>\n",
       "      <td>-29%</td>\n",
       "      <td>-21%</td>\n",
       "      <td>-21%</td>\n",
       "    </tr>\n",
       "  </tbody>\n",
       "</table>\n",
       "</div>"
      ],
      "text/plain": [
       "    Orig. Stand. Dev. Quant.\n",
       "D      0%         -0%    -0%\n",
       "3D    -0%         -2%    -2%\n",
       "W     -1%         -1%    -1%\n",
       "3W     4%         -6%    -6%\n",
       "ME    -4%        -10%   -10%\n",
       "3ME  -29%        -21%   -21%"
      ]
     },
     "execution_count": 25,
     "metadata": {},
     "output_type": "execute_result"
    }
   ],
   "source": [
    "# Show R2 results\n",
    "General_R2_Results = pandas.DataFrame(pr2_results, index=time_frequencies)\n",
    "General_R2_Results"
   ]
  },
  {
   "cell_type": "markdown",
   "metadata": {},
   "source": [
    "## **Model Predictions**\n",
    "\n",
    "Get predictions on selected data frequency"
   ]
  },
  {
   "cell_type": "code",
   "execution_count": 26,
   "metadata": {},
   "outputs": [],
   "source": [
    "# Prepare selected data\n",
    "custom_frequency = 'ME'\n",
    "selected_frequency = custom_frequency if custom_frequency else selected_frequency\n",
    "periods_to_predict = 7\n",
    "\n",
    "selected_data = data[selected_frequency].dataset.copy()\n",
    "selected_data_range = data[selected_frequency].range"
   ]
  },
  {
   "cell_type": "code",
   "execution_count": 27,
   "metadata": {},
   "outputs": [],
   "source": [
    "# Training Model\n",
    "selected_lineal_regression = linear_regression(\n",
    "   data_x=selected_data[independent_data], \n",
    "   data_y=selected_data[selected_item]\n",
    ")\n",
    "selected_data_model = selected_lineal_regression.model"
   ]
  },
  {
   "cell_type": "code",
   "execution_count": 28,
   "metadata": {},
   "outputs": [
    {
     "name": "stdout",
     "output_type": "stream",
     "text": [
      "Item: TOTAL\n",
      "Freq: ME\n",
      "\n",
      "Range: (0, 534)\n",
      "RECM: ± 87\n",
      "RECM(%): 16.37 %\n",
      "R^2(%): -3.92 %\n"
     ]
    }
   ],
   "source": [
    "# Show Results\n",
    "selected_data_results = selected_lineal_regression.results\n",
    "\n",
    "print(f'Item: {selected_item}')\n",
    "print(f'Freq: {selected_frequency}\\n')\n",
    "print(f'Range: {selected_data_results.range}') # Selected Item Value Ranges\n",
    "\n",
    "# print(f'MSE: {selected_data_results.ecm}') # Error Cuadrático Medio\n",
    "print(f'RECM: ± {selected_data_results.recm:.0f}') # Raíz del Error Cuadrático Medio\n",
    "print(f'RECM(%): {selected_data_results.precm:.2f} %') # Porcentaje de la Raíz del Error Cuadrático Medio\n",
    "\n",
    "# print(f'R^2: {selected_data_results.r2}') # R-Cuadrado (ajuste del modelo)\n",
    "print(f'R^2(%): {selected_data_results.pr2:.2f} %') # Porcentaje de R-Cuadrado"
   ]
  },
  {
   "cell_type": "code",
   "execution_count": 29,
   "metadata": {},
   "outputs": [],
   "source": [
    "# Set future dates to predict\n",
    "date_references = [selected_data['fecha'].min(), selected_data['fecha'].max()]\n",
    "\n",
    "future_dates = pandas.date_range(date_references[1], periods=periods_to_predict+1, freq=selected_frequency)\n",
    "data_future_dates = pandas.DataFrame({'fecha': future_dates})\n",
    "data_future_dates['dia'] = (data_future_dates['fecha'] - date_references[0]).dt.days + 1\n",
    "\n",
    "data_predictions = data_future_dates.iloc[1:].reset_index()[['fecha', 'dia']]\n",
    "# data_predictions"
   ]
  },
  {
   "cell_type": "code",
   "execution_count": 30,
   "metadata": {},
   "outputs": [
    {
     "data": {
      "text/html": [
       "<div>\n",
       "<style scoped>\n",
       "    .dataframe tbody tr th:only-of-type {\n",
       "        vertical-align: middle;\n",
       "    }\n",
       "\n",
       "    .dataframe tbody tr th {\n",
       "        vertical-align: top;\n",
       "    }\n",
       "\n",
       "    .dataframe thead th {\n",
       "        text-align: right;\n",
       "    }\n",
       "</style>\n",
       "<table border=\"1\" class=\"dataframe\">\n",
       "  <thead>\n",
       "    <tr style=\"text-align: right;\">\n",
       "      <th></th>\n",
       "      <th>fecha</th>\n",
       "      <th>dia</th>\n",
       "      <th>TOTAL</th>\n",
       "    </tr>\n",
       "  </thead>\n",
       "  <tbody>\n",
       "    <tr>\n",
       "      <th>0</th>\n",
       "      <td>2024-06-30</td>\n",
       "      <td>3531</td>\n",
       "      <td>356</td>\n",
       "    </tr>\n",
       "    <tr>\n",
       "      <th>1</th>\n",
       "      <td>2024-07-31</td>\n",
       "      <td>3562</td>\n",
       "      <td>356</td>\n",
       "    </tr>\n",
       "    <tr>\n",
       "      <th>2</th>\n",
       "      <td>2024-08-31</td>\n",
       "      <td>3593</td>\n",
       "      <td>357</td>\n",
       "    </tr>\n",
       "    <tr>\n",
       "      <th>3</th>\n",
       "      <td>2024-09-30</td>\n",
       "      <td>3623</td>\n",
       "      <td>357</td>\n",
       "    </tr>\n",
       "    <tr>\n",
       "      <th>4</th>\n",
       "      <td>2024-10-31</td>\n",
       "      <td>3654</td>\n",
       "      <td>357</td>\n",
       "    </tr>\n",
       "    <tr>\n",
       "      <th>5</th>\n",
       "      <td>2024-11-30</td>\n",
       "      <td>3684</td>\n",
       "      <td>357</td>\n",
       "    </tr>\n",
       "    <tr>\n",
       "      <th>6</th>\n",
       "      <td>2024-12-31</td>\n",
       "      <td>3715</td>\n",
       "      <td>358</td>\n",
       "    </tr>\n",
       "  </tbody>\n",
       "</table>\n",
       "</div>"
      ],
      "text/plain": [
       "       fecha   dia  TOTAL\n",
       "0 2024-06-30  3531    356\n",
       "1 2024-07-31  3562    356\n",
       "2 2024-08-31  3593    357\n",
       "3 2024-09-30  3623    357\n",
       "4 2024-10-31  3654    357\n",
       "5 2024-11-30  3684    357\n",
       "6 2024-12-31  3715    358"
      ]
     },
     "execution_count": 30,
     "metadata": {},
     "output_type": "execute_result"
    }
   ],
   "source": [
    "# Prediction Results\n",
    "predictions = list( selected_data_model.predict(data_predictions[['dia']]) )\n",
    "# predictions = list(map(int, predictions))\n",
    "predictions = [round(x) for x in predictions]\n",
    "\n",
    "data_predictions[selected_item] = pandas.DataFrame({ selected_item: predictions })\n",
    "data_predictions"
   ]
  },
  {
   "cell_type": "code",
   "execution_count": 31,
   "metadata": {},
   "outputs": [
    {
     "data": {
      "image/png": "[encoded data removed]",
      "text/plain": [
       "<Figure size 1000x300 with 1 Axes>"
      ]
     },
     "metadata": {},
     "output_type": "display_data"
    }
   ],
   "source": [
    "# Plot Results\n",
    "\n",
    "# Concat data and predictions\n",
    "concat = pandas.concat([ selected_data, data_predictions ])[['fecha', 'dia', selected_item]]\n",
    "concat['fecha_ordinal'] = concat['fecha'].map(pandas.Timestamp.toordinal)\n",
    "time = numpy.asarray(concat['fecha'], dtype='datetime64[s]')\n",
    "\n",
    "coeficiet = numpy.polyfit(concat['fecha_ordinal'], concat[selected_item], 1)\n",
    "poly1d_fn = numpy.poly1d(coeficiet)\n",
    "\n",
    "# Plot concated data\n",
    "figure, axes = pyplot.subplots(nrows=1, ncols=1, figsize=(10, 3))\n",
    "\n",
    "ax = axes\n",
    "ax.scatter(time[:-periods_to_predict], selected_data[selected_item], s=12, label=selected_item)\n",
    "ax.scatter(time[-periods_to_predict:], data_predictions[selected_item], s=12, label=f'{selected_item} Predictions', color='purple')\n",
    "ax.plot(time, poly1d_fn(concat['fecha_ordinal']), color='red', label='Tendencia lineal')\n",
    "ax.tick_params(axis='x', labelrotation=0)\n",
    "ax.margins(x=0.03, y=0.04)\n",
    "ax.set(\n",
    "   title='  |  '.join([selected_item, f'freq = {selected_frequency}' ,'Model Predictions']),\n",
    "   xlabel='Fecha', \n",
    "   ylabel='No. de Ventas',\n",
    "   ylim=selected_data_range\n",
    ")\n",
    "ax.legend()\n",
    "ax.grid()\n",
    "\n",
    "figure.tight_layout()"
   ]
  }
 ],
 "metadata": {
  "kernelspec": {
   "display_name": ".project_venv",
   "language": "python",
   "name": "python3"
  },
  "language_info": {
   "codemirror_mode": {
    "name": "ipython",
    "version": 3
   },
   "file_extension": ".py",
   "mimetype": "text/x-python",
   "name": "python",
   "nbconvert_exporter": "python",
   "pygments_lexer": "ipython3",
   "version": "3.10.12"
  }
 },
 "nbformat": 4,
 "nbformat_minor": 2
}
