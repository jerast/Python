{
 "cells": [
  {
   "cell_type": "markdown",
   "metadata": {},
   "source": [
    "## **Fisrt Steps**"
   ]
  },
  {
   "cell_type": "code",
   "execution_count": null,
   "metadata": {},
   "outputs": [],
   "source": [
    "# Set imports\n",
    "import pandas\n",
    "import numpy\n",
    "from matplotlib import pyplot\n",
    "from sklearn.linear_model import LinearRegression\n",
    "from sklearn.model_selection import train_test_split\n",
    "from sklearn.metrics import mean_squared_error, r2_score"
   ]
  },
  {
   "cell_type": "code",
   "execution_count": null,
   "metadata": {},
   "outputs": [],
   "source": [
    "# Set Variables\n",
    "selected_item = 'TOTAL'\n",
    "show_plots = False"
   ]
  },
  {
   "cell_type": "code",
   "execution_count": null,
   "metadata": {},
   "outputs": [],
   "source": [
    "def plotter(x, y, title, y_limit):\n",
    "   figure, axes = pyplot.subplots(nrows=1, ncols=1, figsize=(12, 4))\n",
    "\n",
    "   ax = axes\n",
    "   ax.scatter(x, y, label=selected_item, s=12)\n",
    "   ax.tick_params(axis='x', labelrotation=0)\n",
    "   ax.margins(x=0.03, y=0.04)\n",
    "\n",
    "   ax.set(\n",
    "      title='  |  '.join([ title[0], f'{min(x).item().strftime(\"%Y-%m\")} - {max(x).item().strftime(\"%Y-%m\")}', title[1] ]),\n",
    "      xlabel='Fecha', \n",
    "      ylabel='No. de Ventas',\n",
    "      ylim=y_limit\n",
    "   )\n",
    "   ax.legend()\n",
    "\n",
    "   figure.tight_layout()"
   ]
  },
  {
   "cell_type": "code",
   "execution_count": null,
   "metadata": {},
   "outputs": [],
   "source": [
    "def standart_deviation_filter(data, value):\n",
    "   media = data[value].mean()\n",
    "   desv_std = data[value].std()\n",
    "   rango_valido = [media - 3 * desv_std, media + 3 * desv_std]\n",
    "\n",
    "   # Filtrar datos dentro del rango válido\n",
    "   return data[(data[value] >= rango_valido[0]) & (data[value] <= rango_valido[1])]"
   ]
  },
  {
   "cell_type": "code",
   "execution_count": null,
   "metadata": {},
   "outputs": [],
   "source": [
    "def quantiles_filter(data, value):\n",
    "   # Límites basados en cuartiles\n",
    "   Q1 = data[value].quantile(0.25)\n",
    "   Q3 = data[value].quantile(0.75)\n",
    "   IQR = Q3 - Q1\n",
    "   rango_valido = [Q1 - 1.5 * IQR, Q3 + 1.5 * IQR]\n",
    "   rango_valido_min = rango_valido[0]\n",
    "   rango_valido_max = rango_valido[1]\n",
    "\n",
    "   # Filtrar datos dentro del rango válido\n",
    "   return data[(data[value] >= rango_valido_min) & (data[value] <= rango_valido_max)]"
   ]
  },
  {
   "cell_type": "code",
   "execution_count": null,
   "metadata": {},
   "outputs": [],
   "source": [
    "def linear_regression(data_x, data_y, model: LinearRegression):\n",
    "   # Dividir los datos en conjuntos de entrenamiento y prueba\n",
    "   X_train, X_test, y_train, y_test = train_test_split(data_x, data_y, train_size=0.8, test_size=0.2, random_state=42)\n",
    "\n",
    "   # Crear y entrenar el modelo\n",
    "   model.fit(X_train, y_train)\n",
    "   \n",
    "   # Realizar predicciones en el conjunto de prueba\n",
    "   y_pred = model.predict(X_test)\n",
    "\n",
    "   # Calcular el MSE y el R^2\n",
    "   ecm = mean_squared_error(y_test, y_pred)\n",
    "   recm = numpy.sqrt(ecm)\n",
    "   r2 = r2_score(y_test, y_pred)\n",
    "   pr2 = r2 * 100\n",
    "\n",
    "   print(f'Rango: {data_y.min()} y {data_y.max()}') # Rango de los valores\n",
    "   print(f'MSE: {ecm}') # Error cuadrático medio (MSE)\n",
    "   print(f\"RECM: {recm}\")\n",
    "   print(f'R^2: {r2}') # Coeficiente de determinación \n",
    "   print(f'R^2(%): {pr2:.2f}%')"
   ]
  },
  {
   "cell_type": "code",
   "execution_count": null,
   "metadata": {},
   "outputs": [],
   "source": [
    "def model_results(freq, data):\n",
    "\n",
    "   diario = df.resample('D', on='fecha').count()\n",
    "   cada_tres_dias = df.resample('3D', on='fecha').count()\n",
    "   semanal = df.resample('W', on='fecha').count()\n",
    "   mensual = df.resample('ME', on='fecha').count()\n",
    "   trimestral = df.resample('3ME', on='fecha').count()\n",
    "   semestral = df.resample('6ME', on='fecha').count()\n",
    "   anual = df.resample('YE', on='fecha').count()"
   ]
  },
  {
   "cell_type": "code",
   "execution_count": null,
   "metadata": {},
   "outputs": [],
   "source": [
    "class Struct:\n",
    "    def __init__(self, **kwargs):\n",
    "        for key, value in kwargs.items():\n",
    "            if isinstance(value, dict):\n",
    "                self.__dict__[key] = Struct(**value)\n",
    "            else:\n",
    "                self.__dict__[key] = value"
   ]
  },
  {
   "cell_type": "markdown",
   "metadata": {},
   "source": [
    "## **Prepare Data**"
   ]
  },
  {
   "cell_type": "code",
   "execution_count": null,
   "metadata": {},
   "outputs": [],
   "source": [
    "# Load and prepare Dataset\n",
    "datos = pandas.read_csv('./assets/data_filtered.csv', parse_dates=['fecha'], date_format='%Y-%m-%d')\n",
    "\n",
    "# Set Independent Data\n",
    "items = list( datos.iloc[:, 1:-1].keys() )\n",
    "independent_data = ['año', 'mes', 'dia']"
   ]
  },
  {
   "cell_type": "code",
   "execution_count": null,
   "metadata": {},
   "outputs": [],
   "source": [
    "# Filter data by time-frequencies\n",
    "time_frequencies = ['D', '3D', 'W', 'ME', '3ME']\n",
    "data_frequencies = {}\n",
    "\n",
    "for frequency in time_frequencies[1:]:\n",
    "   data_metadata = {}\n",
    "\n",
    "   freq_data = datos.groupby(pandas.Grouper(key='fecha', freq=frequency, sort=True)).sum().reset_index()\n",
    "   freq_data.insert(1, 'dia', (freq_data['fecha'].dt.to_period('D') + 1 - freq_data['fecha'].dt.to_period('D').min()).apply(lambda x: x.n))\n",
    "   freq_data.insert(1, 'mes', (freq_data['fecha'].dt.to_period('M') + 1 - freq_data['fecha'].dt.to_period('M').min()).apply(lambda x: x.n))\n",
    "   freq_data.insert(1, 'año', (freq_data['fecha'].dt.to_period('Y') + 1 - freq_data['fecha'].dt.to_period('Y').min()).apply(lambda x: x.n))\n",
    "\n",
    "   data_metadata['dataset'] = freq_data\n",
    "   data_metadata['time'] = numpy.asarray(freq_data['fecha'], dtype='datetime64[s]')\n",
    "   data_metadata['range'] = (-3, freq_data[selected_item].max() * 1.1)\n",
    "\n",
    "   data_frequencies[frequency] = data_metadata\n",
    "\n",
    "datos.insert(1, 'dia', (datos['fecha'].dt.to_period('D') + 1 - datos['fecha'].dt.to_period('D').min()).apply(lambda x: x.n))\n",
    "datos.insert(1, 'mes', (datos['fecha'].dt.to_period('M') + 1 - datos['fecha'].dt.to_period('M').min()).apply(lambda x: x.n))\n",
    "datos.insert(1, 'año', (datos['fecha'].dt.to_period('Y') + 1 - datos['fecha'].dt.to_period('Y').min()).apply(lambda x: x.n))\n",
    "data_frequencies = {\n",
    "   'D': {\n",
    "      'dataset': datos,\n",
    "      'time': numpy.asarray(datos['fecha'], dtype='datetime64[s]'),\n",
    "      'range': (-3, datos[selected_item].max() * 1.1)\n",
    "   }\n",
    "}\n",
    "\n",
    "data = Struct(**data_frequencies)"
   ]
  },
  {
   "cell_type": "markdown",
   "metadata": {},
   "source": [
    "## **Out Atypical Data Filter**"
   ]
  },
  {
   "cell_type": "code",
   "execution_count": null,
   "metadata": {},
   "outputs": [],
   "source": [
    "# All data\n",
    "if show_plots:\n",
    "   plotter(x=data.D.time, y=data.D.dataset[selected_item], title=[selected_item, 'Data Origin'], y_limit=data.D.range)"
   ]
  },
  {
   "cell_type": "code",
   "execution_count": null,
   "metadata": {},
   "outputs": [],
   "source": [
    "# Límites basados en desviaciones estándar\n",
    "st_dev_data = standart_deviation_filter(data=data.D.dataset, value=selected_item)\n",
    "st_dev_time = numpy.asarray(st_dev_data['fecha'], dtype='datetime64[s]')\n",
    "\n",
    "if show_plots:\n",
    "   plotter(x=st_dev_time, y=st_dev_data[selected_item], title=[selected_item, 'Filtrado de Datos Atípicos (Desviación Estandar)'], y_limit=data.D.range)"
   ]
  },
  {
   "cell_type": "code",
   "execution_count": null,
   "metadata": {},
   "outputs": [],
   "source": [
    "# Límites basados en cuartiles\n",
    "quant_data = quantiles_filter(data=data.D.dataset, value=selected_item)\n",
    "quant_time = numpy.asarray(quant_data['fecha'], dtype='datetime64[s]')\n",
    "\n",
    "if show_plots:\n",
    "   plotter(x=quant_time, y=quant_data[selected_item], title=[selected_item, 'Filtrado de Datos Atípicos (Cuartiles)'], y_limit=data.D.range)"
   ]
  },
  {
   "cell_type": "code",
   "execution_count": null,
   "metadata": {},
   "outputs": [],
   "source": [
    "# Comparativa de filtrados\n",
    "if show_plots:\n",
    "   figure, axes = pyplot.subplots(ncols=3, figsize=(12, 6))\n",
    "\n",
    "   ax = axes[0]\n",
    "   ax.boxplot(data.D.dataset[selected_item], showfliers=False)\n",
    "   ax.scatter(x=[.8] * len(data.D.dataset), y=data.D.dataset[selected_item], alpha=0.2)\n",
    "   ax.grid()\n",
    "   ax.set(\n",
    "      title='Totals  |  Totals',\n",
    "      ylabel=selected_item,\n",
    "      ylim=data.D.range,\n",
    "      xticks=([])\n",
    "   )\n",
    "\n",
    "   ax = axes[1]\n",
    "   ax.boxplot(st_dev_data[selected_item], showfliers=False)\n",
    "   ax.scatter(x=[.8] * len(st_dev_data), y=st_dev_data[selected_item], alpha=0.2)\n",
    "   ax.grid()\n",
    "   ax.set(\n",
    "      title='Ventas  |  Desv. Estándar',\n",
    "      ylim=data.D.range,\n",
    "      xticks=([])\n",
    "   )\n",
    "\n",
    "   ax = axes[2]\n",
    "   ax.boxplot(quant_data[selected_item], showfliers=True)\n",
    "   ax.scatter(x=[.8] * len(quant_data), y=quant_data[selected_item], alpha=0.2)\n",
    "   ax.grid()\n",
    "   ax.set(\n",
    "      title='Ventas  |  Lim. Cuartiles',\n",
    "      ylim=data.D.range,\n",
    "      xticks=([])\n",
    "   )\n"
   ]
  },
  {
   "cell_type": "markdown",
   "metadata": {},
   "source": [
    "## **Model Train and Test**"
   ]
  },
  {
   "cell_type": "code",
   "execution_count": null,
   "metadata": {},
   "outputs": [],
   "source": [
    "# regresión Lineal | Total data\n",
    "data_model = LinearRegression()\n",
    "linear_regression(data_x=data.D.dataset[independent_data], data_y=data.D.dataset[selected_item], model=data_model)"
   ]
  },
  {
   "cell_type": "code",
   "execution_count": null,
   "metadata": {},
   "outputs": [],
   "source": [
    "# regresión Lineal | Filtrado x Desviación Estándar\n",
    "st_dev_data_model = LinearRegression()\n",
    "linear_regression(data_x=quant_data[independent_data], data_y=quant_data[selected_item], model=st_dev_data_model)"
   ]
  },
  {
   "cell_type": "code",
   "execution_count": null,
   "metadata": {},
   "outputs": [],
   "source": [
    "# regresión Lineal | Filtrado x Cuartiles\n",
    "quant_data_model = LinearRegression()\n",
    "linear_regression(data_x=st_dev_data[independent_data], data_y=st_dev_data[selected_item], model=quant_data_model)"
   ]
  },
  {
   "cell_type": "markdown",
   "metadata": {},
   "source": [
    "## **Model Predictions**"
   ]
  },
  {
   "cell_type": "code",
   "execution_count": null,
   "metadata": {},
   "outputs": [],
   "source": [
    "# ventas_predichas = modelo.predict([])\n",
    "# print(f\"Las ventas predichas para el mes {mes_siguiente} son: {ventas_predichas[0]}\")"
   ]
  }
 ],
 "metadata": {
  "kernelspec": {
   "display_name": ".project_venv",
   "language": "python",
   "name": "python3"
  },
  "language_info": {
   "codemirror_mode": {
    "name": "ipython",
    "version": 3
   },
   "file_extension": ".py",
   "mimetype": "text/x-python",
   "name": "python",
   "nbconvert_exporter": "python",
   "pygments_lexer": "ipython3",
   "version": "3.10.12"
  }
 },
 "nbformat": 4,
 "nbformat_minor": 2
}
