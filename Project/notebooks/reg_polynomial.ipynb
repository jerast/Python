{
 "cells": [
  {
   "cell_type": "markdown",
   "metadata": {},
   "source": [
    "# **Polynomial Regression Model**"
   ]
  },
  {
   "cell_type": "code",
   "execution_count": null,
   "metadata": {},
   "outputs": [],
   "source": [
    "# Set Variables\n",
    "data_path = '../assets/data_filtered.csv'\n",
    "time_frequencies = ['D', '3D', 'W', '3W', 'ME', '3ME']\n",
    "\n",
    "selected_item = 'TOTAL'\n",
    "\n",
    "degrees_limit = 20\n",
    "model_random_seed = 0\n",
    "show_plots = False"
   ]
  },
  {
   "cell_type": "markdown",
   "metadata": {},
   "source": [
    "## **Firts Steps**"
   ]
  },
  {
   "cell_type": "code",
   "execution_count": null,
   "metadata": {},
   "outputs": [],
   "source": [
    "# Set imports\n",
    "import numpy\n",
    "import pandas\n",
    "from matplotlib import pyplot\n",
    "from sklearn.model_selection import train_test_split, cross_val_score\n",
    "from sklearn.preprocessing import PolynomialFeatures\n",
    "from sklearn.linear_model import LinearRegression\n",
    "from sklearn.metrics import mean_squared_error, r2_score, root_mean_squared_error"
   ]
  },
  {
   "cell_type": "code",
   "execution_count": null,
   "metadata": {},
   "outputs": [],
   "source": [
    "class Struct:\n",
    "    def __init__(self, **kwargs):\n",
    "        for key, value in kwargs.items():\n",
    "            if isinstance(value, dict):\n",
    "                self.__dict__[key] = Struct(**value)\n",
    "            else:\n",
    "                self.__dict__[key] = value"
   ]
  },
  {
   "cell_type": "code",
   "execution_count": null,
   "metadata": {},
   "outputs": [],
   "source": [
    "def frequency_grouper(data):\n",
    "   data_splitted = {}\n",
    "   \n",
    "   for frequency in time_frequencies:\n",
    "      data_metadata = {}\n",
    "\n",
    "      # Group by frequency time\n",
    "      frequency_data = data.groupby(pandas.Grouper(key='fecha', freq=frequency, sort=True)).sum().reset_index() if frequency != 'D' else data.copy()\n",
    "\n",
    "      # Ennumerate dates\n",
    "      date_reference = frequency_data['fecha'].min()\n",
    "      frequency_data['dia'] = (frequency_data['fecha'] - date_reference).dt.days + 1\n",
    "\n",
    "      # Set range\n",
    "      data_min = frequency_data[selected_item].min()\n",
    "      data_max = frequency_data[selected_item].max()\n",
    "      range_diff = (data_max - data_min) / 20\n",
    "      range_min = -range_diff if data_min <= 0 else 0\n",
    "\n",
    "      # group data\n",
    "      data_metadata['min'] = data_min\n",
    "      data_metadata['max'] = data_max\n",
    "\n",
    "      data_metadata['dataset'] = frequency_data\n",
    "      data_metadata['time'] = numpy.asarray(frequency_data['fecha'], dtype='datetime64[s]')\n",
    "      data_metadata['range'] = (range_min, data_max + range_diff)\n",
    "\n",
    "      # Convert data dict to object\n",
    "      data_splitted[frequency] = Struct(**data_metadata)\n",
    "   \n",
    "   return data_splitted"
   ]
  },
  {
   "cell_type": "code",
   "execution_count": null,
   "metadata": {},
   "outputs": [],
   "source": [
    "def polynomial_train(data_x, data_y, degree):\n",
    "   # Split data between train data and test data\n",
    "   X_train, X_test, y_train, y_test = train_test_split(data_x, data_y, train_size=0.8, test_size=0.2, random_state=model_random_seed)\n",
    "\n",
    "   # Train model with train data\n",
    "   polynomial_features = PolynomialFeatures(degree=degree)\n",
    "   X_poly_train = polynomial_features.fit_transform(X_train)\n",
    "\n",
    "   model = LinearRegression()\n",
    "   model.fit(X_poly_train, y_train)\n",
    "\n",
    "   # Test model\n",
    "   X_poly_test = polynomial_features.transform(X_test)\n",
    "   y_pred = model.predict(X_poly_test)\n",
    "\n",
    "   return Struct(**{\n",
    "      # 'X_train': X_train, \n",
    "      # 'X_test': X_test, \n",
    "      # 'y_train': y_train, \n",
    "      'y_test': y_test, \n",
    "      'y_pred': y_pred\n",
    "   })"
   ]
  },
  {
   "cell_type": "code",
   "execution_count": null,
   "metadata": {},
   "outputs": [],
   "source": [
    "def polynomial_test(data_test, data_pred, min, max):\n",
    "   # Verify model results\n",
    "   ecm = mean_squared_error(data_test, data_pred)\n",
    "   recm = root_mean_squared_error(data_test, data_pred)\n",
    "   precm = recm / (max - min) * 100\n",
    "\n",
    "   r2 = r2_score(data_test, data_pred)\n",
    "   pr2 = r2 * 100\n",
    "\n",
    "   # Get model metadata\n",
    "   return Struct(**{\n",
    "      # 'range': (min, max),\n",
    "      # 'ecm': ecm,\n",
    "      # 'recm': recm,\n",
    "      'precm': precm,\n",
    "      # 'r2': r2, \n",
    "      # 'pr2': pr2\n",
    "   })"
   ]
  },
  {
   "cell_type": "code",
   "execution_count": null,
   "metadata": {},
   "outputs": [],
   "source": [
    "def polynomial_regression(data_x, data_y, degree):\n",
    "   # Init Polynomial Features\n",
    "   polynomial_features = PolynomialFeatures(degree=degree)  # Grado 2 para un polinomio cuadrático\n",
    "   X_poly = polynomial_features.fit_transform(data_x)\n",
    "\n",
    "   # Train Model\n",
    "   model = LinearRegression()\n",
    "   model.fit(X_poly, data_y)\n",
    "   y_pred = model.predict(X_poly)\n",
    "\n",
    "   return Struct(**{\n",
    "      'model': model,\n",
    "      'features': polynomial_features,\n",
    "      'y_pred': y_pred\n",
    "   })"
   ]
  },
  {
   "cell_type": "code",
   "execution_count": null,
   "metadata": {},
   "outputs": [],
   "source": [
    "def polynomial(data_x, data_y, degree):\n",
    "   # Get max and min data values\n",
    "   data_min = data_y.min()\n",
    "   data_max = data_y.max()\n",
    "\n",
    "   # Split data between train data and test data\n",
    "   X_train, X_test, y_train, y_test = train_test_split(data_x, data_y, train_size=0.8, test_size=0.2, random_state=model_random_seed)\n",
    "\n",
    "   # Train model with train data\n",
    "   polynomial_features = PolynomialFeatures(degree=degree)\n",
    "   X_poly_train = polynomial_features.fit_transform( X_train )\n",
    "\n",
    "   model = LinearRegression()\n",
    "   model.fit(X_poly_train, y_train)\n",
    "\n",
    "   # Test model\n",
    "   X_poly_test = polynomial_features.transform( X_test )\n",
    "   y_pred = model.predict(X_poly_test)\n",
    "\n",
    "   # Verify model results\n",
    "   ecm = mean_squared_error(y_test, y_pred)\n",
    "   recm = root_mean_squared_error(y_test, y_pred)\n",
    "   precm = recm / (data_max - data_min) * 100\n",
    "\n",
    "   r2 = r2_score(y_test, y_pred)\n",
    "   pr2 = r2 * 100\n",
    "\n",
    "   # Get model metadata\n",
    "   data_slices = {\n",
    "      'x_test': X_test,\n",
    "      'x_train': X_train,\n",
    "      'y_test': y_test,\n",
    "      'y_train': y_train,\n",
    "      'y_pred': y_pred\n",
    "   }\n",
    "   results = {\n",
    "      'range': (data_min, data_max),\n",
    "      'ecm': ecm,\n",
    "      'recm': recm,\n",
    "      'precm': precm,\n",
    "      'r2': r2, \n",
    "      'pr2': pr2\n",
    "   }\n",
    "\n",
    "   return Struct(**{\n",
    "      'model': model,\n",
    "      'data': data_slices,\n",
    "      'results': results\n",
    "   })"
   ]
  },
  {
   "cell_type": "markdown",
   "metadata": {},
   "source": [
    "## **Prepare Data**"
   ]
  },
  {
   "cell_type": "code",
   "execution_count": null,
   "metadata": {},
   "outputs": [],
   "source": [
    "# Load filtered data\n",
    "datos = pandas.read_csv(data_path, parse_dates=['fecha'], date_format='%Y-%m-%d')\n",
    "datos.head(5)"
   ]
  },
  {
   "cell_type": "code",
   "execution_count": null,
   "metadata": {},
   "outputs": [],
   "source": [
    "# Exclude only necesary data\n",
    "datos = datos[['fecha', selected_item]]\n",
    "datos.head()"
   ]
  },
  {
   "cell_type": "code",
   "execution_count": null,
   "metadata": {},
   "outputs": [],
   "source": [
    "# Split data by time frequencies\n",
    "data = frequency_grouper(data=datos)\n",
    "independent_data = ['dia']"
   ]
  },
  {
   "cell_type": "markdown",
   "metadata": {},
   "source": [
    "## **Optimal Degree**"
   ]
  },
  {
   "cell_type": "code",
   "execution_count": null,
   "metadata": {},
   "outputs": [],
   "source": [
    "# Eval model by frequency-degree\n",
    "degrees = numpy.arange(1, degrees_limit+1)\n",
    "degrees_prmse = { 'degree': range(1, degrees_limit+1) }\n",
    "\n",
    "for frequency in time_frequencies:\n",
    "\n",
    "   degrees_prmse[frequency] = []\n",
    "   X = data[frequency].dataset[independent_data]\n",
    "   y = data[frequency].dataset[selected_item]\n",
    "\n",
    "   for degree in degrees:\n",
    "      model_results = polynomial(\n",
    "         data_x=X,\n",
    "         data_y=y,\n",
    "         degree=degree,\n",
    "      )\n",
    "      degrees_prmse[frequency].append( round(model_results.results.precm, 3) )\n",
    "\n",
    "# Show RMSE (%) Results by Degree\n",
    "prmse_results = pandas.DataFrame(degrees_prmse).set_index('degree')\n",
    "prmse_results"
   ]
  },
  {
   "cell_type": "code",
   "execution_count": null,
   "metadata": {},
   "outputs": [],
   "source": [
    "# # Eval model by frequency-degree\n",
    "# degrees = numpy.arange(1, degrees_limit+1)\n",
    "# degrees_prmse = { 'degree': range(1, degrees_limit+1) }\n",
    "\n",
    "# for frequency in time_frequencies:\n",
    "\n",
    "#    degrees_prmse[frequency] = []\n",
    "\n",
    "#    # independent and target data\n",
    "#    X_data = data[frequency].dataset[independent_data]\n",
    "#    y_data = data[frequency].dataset[selected_item]\n",
    "\n",
    "#    # Get max and min data values\n",
    "#    data_min = X_data.min()\n",
    "#    data_max = y_data.max()\n",
    "\n",
    "#    for degree in degrees:\n",
    "\n",
    "#       train_results = polynomial_train(\n",
    "#          data_x=X_data, \n",
    "#          data_y=y_data, \n",
    "#          degree=degree\n",
    "#       )\n",
    "#       test_results = polynomial_test(\n",
    "#          data_test=train_results.y_test, \n",
    "#          data_pred=train_results.y_pred, \n",
    "#          min=data_min, \n",
    "#          max=data_max\n",
    "#       )\n",
    "#       degrees_prmse[frequency].append( round(test_results.precm, 3) )\n",
    "#       # print(round(results.precm, 3))\n",
    "\n",
    "# # Show RMSE (%) Results by Degree\n",
    "# prmse_results = pandas.DataFrame(degrees_prmse).set_index('degree')\n",
    "# prmse_results"
   ]
  },
  {
   "cell_type": "code",
   "execution_count": null,
   "metadata": {},
   "outputs": [],
   "source": [
    "# Get min RMSE Percent\n",
    "min_prmse = prmse_results.values.min()\n",
    "print(f'Min. error (prmse): {min_prmse}%')\n",
    "\n",
    "# Obtenemos la fila y columna donde se encuentra el valor máximo\n",
    "min_degree, min_freq = prmse_results.values.argmin()//len(prmse_results.columns), prmse_results.values.argmin()%len(prmse_results.columns)\n",
    "print(f'degree: °{min_degree + 1}')\n",
    "print(f'freq: {prmse_results.columns[min_freq]}')"
   ]
  },
  {
   "cell_type": "markdown",
   "metadata": {},
   "source": [
    "## **Run Model**"
   ]
  },
  {
   "cell_type": "code",
   "execution_count": null,
   "metadata": {},
   "outputs": [],
   "source": [
    "# Set selected params\n",
    "customs_selects = True\n",
    "custom_freq = 'D'\n",
    "custom_degree = 6\n",
    "\n",
    "selected_freq = prmse_results.columns[min_freq] if not customs_selects else custom_freq\n",
    "selected_degree = min_degree+1 if not customs_selects else custom_degree\n",
    "selected_data = data[selected_freq].dataset \n",
    "periods_to_predict = 30*7"
   ]
  },
  {
   "cell_type": "code",
   "execution_count": null,
   "metadata": {},
   "outputs": [],
   "source": [
    "# Create new model instance\n",
    "polynomial_model = polynomial_regression(\n",
    "   data_x=numpy.array(selected_data[independent_data]).reshape(-1, 1),\n",
    "   data_y=selected_data[selected_item],\n",
    "   degree=selected_degree,\n",
    ")\n",
    "\n",
    "y_pred = polynomial_model.y_pred"
   ]
  },
  {
   "cell_type": "code",
   "execution_count": null,
   "metadata": {},
   "outputs": [],
   "source": [
    "# Show Original Data\n",
    "pyplot.figure(figsize=(16, 4))\n",
    "pyplot.scatter(selected_data['fecha'], selected_data[selected_item], label='Current Data')\n",
    "pyplot.plot(selected_data['fecha'], y_pred, color='red', label='Polynomial Regression Model')\n",
    "pyplot.title('  |  '.join([selected_item, f'freq = {selected_freq}', f'Polyn. Reg. °{selected_degree}']))\n",
    "pyplot.xlabel('X')\n",
    "pyplot.ylabel('y')\n",
    "pyplot.legend()\n",
    "pyplot.show()\n"
   ]
  },
  {
   "cell_type": "markdown",
   "metadata": {},
   "source": [
    "## **Model Predictions**"
   ]
  },
  {
   "cell_type": "code",
   "execution_count": null,
   "metadata": {},
   "outputs": [],
   "source": [
    "# Get instance model and features\n",
    "model = polynomial_model.model\n",
    "features = polynomial_model.features\n",
    "\n",
    "X_poly = features.fit_transform(selected_data[independent_data])"
   ]
  },
  {
   "cell_type": "code",
   "execution_count": null,
   "metadata": {},
   "outputs": [],
   "source": [
    "# Set new x_pred values\n",
    "date_references = [selected_data['fecha'].min(), selected_data['fecha'].max()]\n",
    "\n",
    "future_dates = pandas.date_range(date_references[1], periods=periods_to_predict+1, freq=selected_freq)\n",
    "data_future_dates = pandas.DataFrame({'fecha': future_dates})\n",
    "data_future_dates['dia'] = (data_future_dates['fecha'] - date_references[0]).dt.days + 1\n",
    "\n",
    "data_predictions = data_future_dates.iloc[1:].reset_index()[['fecha', 'dia']]\n",
    "data_predictions"
   ]
  },
  {
   "cell_type": "code",
   "execution_count": null,
   "metadata": {},
   "outputs": [],
   "source": [
    "new_dates = numpy.array(data_predictions[independent_data]).reshape(-1, 1)\n",
    "new_sales = features.transform(new_dates)\n",
    "\n",
    "predictions = model.predict(new_sales).flatten()\n",
    "predictions = [round(item) for item in predictions]\n",
    "\n",
    "data_predictions[selected_item] = pandas.DataFrame({ selected_item: predictions })\n",
    "data_predictions"
   ]
  },
  {
   "cell_type": "code",
   "execution_count": null,
   "metadata": {},
   "outputs": [],
   "source": [
    "# Plot Data with predictions\n",
    "pyplot.figure(figsize=(16, 4))\n",
    "pyplot.scatter(selected_data['fecha'], selected_data[selected_item], label='Current Data')\n",
    "pyplot.plot(selected_data['fecha'], model.predict(X_poly), color='red', label='Polynomial Regression Model')\n",
    "pyplot.scatter(data_predictions['fecha'], predictions, color='green', marker='x', label='Predictions')\n",
    "pyplot.title(f'{selected_item}  |  freq = {selected_freq}  |  Regresión de Grado °{selected_degree}')\n",
    "pyplot.xlabel('Fechas')\n",
    "pyplot.ylabel('No. de Ventas')\n",
    "pyplot.legend()\n",
    "pyplot.show()"
   ]
  }
 ],
 "metadata": {
  "kernelspec": {
   "display_name": ".project_venv",
   "language": "python",
   "name": "python3"
  },
  "language_info": {
   "codemirror_mode": {
    "name": "ipython",
    "version": 3
   },
   "file_extension": ".py",
   "mimetype": "text/x-python",
   "name": "python",
   "nbconvert_exporter": "python",
   "pygments_lexer": "ipython3",
   "version": "3.10.12"
  }
 },
 "nbformat": 4,
 "nbformat_minor": 2
}
