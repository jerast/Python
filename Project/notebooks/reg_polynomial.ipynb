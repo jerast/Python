{
 "cells": [
  {
   "cell_type": "code",
   "execution_count": null,
   "metadata": {},
   "outputs": [],
   "source": [
    "import numpy\n",
    "import pandas\n",
    "import matplotlib.pyplot as plt\n",
    "from sklearn.linear_model import LinearRegression\n",
    "from sklearn.preprocessing import PolynomialFeatures\n",
    "from sklearn.metrics import mean_squared_error, r2_score\n",
    "from sklearn.model_selection import train_test_split"
   ]
  },
  {
   "cell_type": "code",
   "execution_count": null,
   "metadata": {},
   "outputs": [],
   "source": [
    "opt_degree = 5\n",
    "freq = '3W'\n",
    "range_lim = 400"
   ]
  },
  {
   "cell_type": "code",
   "execution_count": null,
   "metadata": {},
   "outputs": [],
   "source": [
    "data = pandas.read_csv('../assets/data_filtered.csv', parse_dates=['fecha'], date_format='%Y-%m-%d')\n",
    "data = data.groupby(pandas.Grouper(key='fecha', freq=freq, sort=True)).sum().reset_index()\n",
    "data['dia'] = (data['fecha'] - data['fecha'].min()).dt.days + 1\n",
    "\n",
    "fecha = data[['dia']]\n",
    "total = data[['TOTAL']]\n",
    "\n",
    "# Convertir las listas a arreglos de NumPy\n",
    "X = numpy.array(fecha).reshape(-1, 1)\n",
    "y = numpy.array(total)\n",
    "\n",
    "# data.tail()\n",
    "# y"
   ]
  },
  {
   "cell_type": "code",
   "execution_count": null,
   "metadata": {},
   "outputs": [],
   "source": [
    "# # Dividir los datos en conjuntos de entrenamiento y validación\n",
    "X_train, X_val, y_train, y_val = train_test_split(X, y, test_size=0.2, random_state=42)\n",
    "\n",
    "# Lista para almacenar los errores de validación\n",
    "val_errors = []\n",
    "\n",
    "# Probar diferentes grados del polinomio\n",
    "for degree in range(1, 20):\n",
    "    poly = PolynomialFeatures(degree=degree)\n",
    "    X_train_poly = poly.fit_transform(X_train)\n",
    "    X_val_poly = poly.transform(X_val)\n",
    "\n",
    "    lin_reg = LinearRegression()\n",
    "    lin_reg.fit(X_train_poly, y_train)\n",
    "\n",
    "    y_val_pred = lin_reg.predict(X_val_poly)\n",
    "    val_error = mean_squared_error(y_val, y_val_pred)\n",
    "    val_errors.append(val_error)\n",
    "\n",
    "    # print(f\"Grado {degree}: Error de validación = {val_error:.2f}\")\n",
    "\n",
    "# Seleccionar el grado con el menor error de validación\n",
    "optimal_degree = val_errors.index(min(val_errors)) + 1\n",
    "print(f\"\\nEl grado óptimo del polinomio es: {optimal_degree}\")"
   ]
  },
  {
   "cell_type": "code",
   "execution_count": null,
   "metadata": {},
   "outputs": [],
   "source": [
    "poly = PolynomialFeatures(degree=opt_degree)  # Grado 2 para un polinomio cuadrático\n",
    "X_poly = poly.fit_transform(X)"
   ]
  },
  {
   "cell_type": "code",
   "execution_count": null,
   "metadata": {},
   "outputs": [],
   "source": [
    "lin_reg = LinearRegression()\n",
    "lin_reg.fit(X_poly, y)\n",
    "y_pred = lin_reg.predict(X_poly)"
   ]
  },
  {
   "cell_type": "code",
   "execution_count": null,
   "metadata": {},
   "outputs": [],
   "source": [
    "mse = mean_squared_error(y, y_pred)\n",
    "r2 = r2_score(y, y_pred)\n",
    "print(f\"MSE: {mse:.2f}, R^2: {r2:.2f}\")"
   ]
  },
  {
   "cell_type": "code",
   "execution_count": null,
   "metadata": {},
   "outputs": [],
   "source": [
    "plt.figure().set_figheight(4)\n",
    "plt.figure().set_figwidth(15)\n",
    "plt.scatter(data['fecha'], y, color='red')\n",
    "plt.plot(data['fecha'], y_pred, color='blue')\n",
    "plt.title('Regresión Polinomial')\n",
    "plt.xlabel('X')\n",
    "plt.ylabel('y')\n",
    "plt.ylim(-10, range_lim)\n",
    "plt.show()"
   ]
  }
 ],
 "metadata": {
  "kernelspec": {
   "display_name": ".project_venv",
   "language": "python",
   "name": "python3"
  },
  "language_info": {
   "codemirror_mode": {
    "name": "ipython",
    "version": 3
   },
   "file_extension": ".py",
   "mimetype": "text/x-python",
   "name": "python",
   "nbconvert_exporter": "python",
   "pygments_lexer": "ipython3",
   "version": "3.10.12"
  }
 },
 "nbformat": 4,
 "nbformat_minor": 2
}
