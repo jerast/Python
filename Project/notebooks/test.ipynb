{
 "cells": [
  {
   "cell_type": "code",
   "execution_count": 2,
   "metadata": {},
   "outputs": [],
   "source": [
    "import pandas as pd\n",
    "\n",
    "# Crear un DataFrame de ejemplo\n",
    "data = {'fecha': pd.date_range('2022-01-01', '2023-12-31', freq='D'),\n",
    "        'valor': range(730)}\n",
    "df = pd.DataFrame(data)\n",
    "\n",
    "# Resamplear por diferentes frecuencias\n",
    "diario = df.resample('D', on='fecha').count()\n",
    "cada_tres_dias = df.resample('3D', on='fecha').count()\n",
    "semanal = df.resample('W', on='fecha').count()\n",
    "mensual = df.resample('ME', on='fecha').count()\n",
    "trimestral = df.resample('3ME', on='fecha').count()\n",
    "semestral = df.resample('6ME', on='fecha').count()\n",
    "anual = df.resample('YE', on='fecha').count()"
   ]
  },
  {
   "cell_type": "code",
   "execution_count": 4,
   "metadata": {},
   "outputs": [
    {
     "data": {
      "text/html": [
       "<div>\n",
       "<style scoped>\n",
       "    .dataframe tbody tr th:only-of-type {\n",
       "        vertical-align: middle;\n",
       "    }\n",
       "\n",
       "    .dataframe tbody tr th {\n",
       "        vertical-align: top;\n",
       "    }\n",
       "\n",
       "    .dataframe thead th {\n",
       "        text-align: right;\n",
       "    }\n",
       "</style>\n",
       "<table border=\"1\" class=\"dataframe\">\n",
       "  <thead>\n",
       "    <tr style=\"text-align: right;\">\n",
       "      <th></th>\n",
       "      <th>valor</th>\n",
       "    </tr>\n",
       "    <tr>\n",
       "      <th>fecha</th>\n",
       "      <th></th>\n",
       "    </tr>\n",
       "  </thead>\n",
       "  <tbody>\n",
       "    <tr>\n",
       "      <th>2022-01-02</th>\n",
       "      <td>2</td>\n",
       "    </tr>\n",
       "    <tr>\n",
       "      <th>2022-01-09</th>\n",
       "      <td>7</td>\n",
       "    </tr>\n",
       "    <tr>\n",
       "      <th>2022-01-16</th>\n",
       "      <td>7</td>\n",
       "    </tr>\n",
       "    <tr>\n",
       "      <th>2022-01-23</th>\n",
       "      <td>7</td>\n",
       "    </tr>\n",
       "    <tr>\n",
       "      <th>2022-01-30</th>\n",
       "      <td>7</td>\n",
       "    </tr>\n",
       "    <tr>\n",
       "      <th>...</th>\n",
       "      <td>...</td>\n",
       "    </tr>\n",
       "    <tr>\n",
       "      <th>2023-12-03</th>\n",
       "      <td>7</td>\n",
       "    </tr>\n",
       "    <tr>\n",
       "      <th>2023-12-10</th>\n",
       "      <td>7</td>\n",
       "    </tr>\n",
       "    <tr>\n",
       "      <th>2023-12-17</th>\n",
       "      <td>7</td>\n",
       "    </tr>\n",
       "    <tr>\n",
       "      <th>2023-12-24</th>\n",
       "      <td>7</td>\n",
       "    </tr>\n",
       "    <tr>\n",
       "      <th>2023-12-31</th>\n",
       "      <td>7</td>\n",
       "    </tr>\n",
       "  </tbody>\n",
       "</table>\n",
       "<p>105 rows × 1 columns</p>\n",
       "</div>"
      ],
      "text/plain": [
       "            valor\n",
       "fecha            \n",
       "2022-01-02      2\n",
       "2022-01-09      7\n",
       "2022-01-16      7\n",
       "2022-01-23      7\n",
       "2022-01-30      7\n",
       "...           ...\n",
       "2023-12-03      7\n",
       "2023-12-10      7\n",
       "2023-12-17      7\n",
       "2023-12-24      7\n",
       "2023-12-31      7\n",
       "\n",
       "[105 rows x 1 columns]"
      ]
     },
     "execution_count": 4,
     "metadata": {},
     "output_type": "execute_result"
    }
   ],
   "source": [
    "semanal"
   ]
  },
  {
   "cell_type": "code",
   "execution_count": 1,
   "metadata": {},
   "outputs": [
    {
     "name": "stdout",
     "output_type": "stream",
     "text": [
      "Error Cuadrático Medio (ECM): 7000\n",
      "Raíz del Error Cuadrático Medio (RECM): 84\n",
      "Coeficiente de Determinación (R^2): 0.88\n"
     ]
    }
   ],
   "source": [
    "import numpy as np\n",
    "from sklearn.metrics import mean_squared_error, r2_score\n",
    "\n",
    "# Datos de unidades vendidas reales y predichas\n",
    "unidades_reales = np.array([1500, 2000, 1800, 2200, 1700])\n",
    "unidades_predichas = np.array([1600, 1900, 1750, 2300, 1650])\n",
    "\n",
    "# Calcular el Error Cuadrático Medio (ECM)\n",
    "ecm = mean_squared_error(unidades_reales, unidades_predichas)\n",
    "print(f\"Error Cuadrático Medio (ECM): {ecm:.0f}\")\n",
    "\n",
    "# Calcular la Raíz del Error Cuadrático Medio (RECM)\n",
    "recm = np.sqrt(ecm)\n",
    "print(f\"Raíz del Error Cuadrático Medio (RECM): {recm:.0f}\")\n",
    "\n",
    "# Calcular el Coeficiente de Determinación (R^2)\n",
    "r_squared = r2_score(unidades_reales, unidades_predichas)\n",
    "print(f\"Coeficiente de Determinación (R^2): {r_squared:.2f}\")"
   ]
  }
 ],
 "metadata": {
  "kernelspec": {
   "display_name": ".project_venv",
   "language": "python",
   "name": "python3"
  },
  "language_info": {
   "codemirror_mode": {
    "name": "ipython",
    "version": 3
   },
   "file_extension": ".py",
   "mimetype": "text/x-python",
   "name": "python",
   "nbconvert_exporter": "python",
   "pygments_lexer": "ipython3",
   "version": "3.10.12"
  }
 },
 "nbformat": 4,
 "nbformat_minor": 2
}
